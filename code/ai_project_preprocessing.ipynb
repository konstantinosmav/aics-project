{
 "cells": [
  {
   "cell_type": "code",
   "execution_count": 1,
   "metadata": {},
   "outputs": [
    {
     "name": "stderr",
     "output_type": "stream",
     "text": [
      "Using TensorFlow backend.\n"
     ]
    }
   ],
   "source": [
    "# importing modules I will use\n",
    "import pandas as pd\n",
    "import json\n",
    "from collections import defaultdict, Counter\n",
    "import ast\n",
    "import matplotlib.pyplot as plt\n",
    "import requests\n",
    "import json\n",
    "from flask import Flask, request\n",
    "from jinja2 import Environment\n",
    "from urllib.request import Request, urlopen\n",
    "import os\n",
    "import tqdm\n",
    "from sklearn.model_selection import train_test_split\n",
    "from PIL import Image\n",
    "import pickle\n",
    "import numpy as np\n",
    "# API key I use to download the movie posters from TMDB\n",
    "api_key = '39329068bc1de1536d231b6b49c9ff50'\n",
    "import numpy as np\n",
    "import ast\n",
    "import re\n",
    "import nltk\n",
    "#nltk.download('stopwords')\n",
    "#nltk.download('punkt')\n",
    "#nltk.download('wordnet')\n",
    "from nltk.corpus import stopwords\n",
    "from nltk.stem import WordNetLemmatizer \n",
    "import matplotlib.pyplot as plt\n",
    "from sklearn.preprocessing import MultiLabelBinarizer\n",
    "from gensim.models import KeyedVectors\n",
    "import string\n",
    "from nltk.tokenize import RegexpTokenizer\n",
    "import torch \n",
    "import torch.nn as nn\n",
    "import torch.nn.functional as F\n",
    "from torch.utils.data import TensorDataset, DataLoader\n",
    "from torchtext.data import Field, BucketIterator, Iterator, TabularDataset\n",
    "from keras.preprocessing.text import Tokenizer\n",
    "from keras.preprocessing.sequence import pad_sequences\n",
    "device = torch.device('cuda:2') #if torch.cuda.is_available() else 'cpu')\n"
   ]
  },
  {
   "cell_type": "markdown",
   "metadata": {},
   "source": [
    "## Mostly Preprocessing"
   ]
  },
  {
   "cell_type": "code",
   "execution_count": 86,
   "metadata": {},
   "outputs": [
    {
     "name": "stderr",
     "output_type": "stream",
     "text": [
      "/home/gusmavko@GU.GU.SE/.local/lib/python3.7/site-packages/IPython/core/interactiveshell.py:3147: DtypeWarning: Columns (10) have mixed types.Specify dtype option on import or set low_memory=False.\n",
      "  interactivity=interactivity, compiler=compiler, result=result)\n"
     ]
    }
   ],
   "source": [
    "# loading the dataset.\n",
    "\n",
    "df=pd.read_csv('movies_metadata.csv')"
   ]
  },
  {
   "cell_type": "code",
   "execution_count": 77,
   "metadata": {},
   "outputs": [
    {
     "data": {
      "text/plain": [
       "Index(['adult', 'belongs_to_collection', 'budget', 'genres', 'homepage', 'id',\n",
       "       'imdb_id', 'original_language', 'original_title', 'overview',\n",
       "       'popularity', 'poster_path', 'production_companies',\n",
       "       'production_countries', 'release_date', 'revenue', 'runtime',\n",
       "       'spoken_languages', 'status', 'tagline', 'title', 'video',\n",
       "       'vote_average', 'vote_count'],\n",
       "      dtype='object')"
      ]
     },
     "execution_count": 77,
     "metadata": {},
     "output_type": "execute_result"
    }
   ],
   "source": [
    "# other features to use\n",
    "df.columns\n"
   ]
  },
  {
   "cell_type": "code",
   "execution_count": 81,
   "metadata": {},
   "outputs": [
    {
     "data": {
      "text/html": [
       "<div>\n",
       "<style scoped>\n",
       "    .dataframe tbody tr th:only-of-type {\n",
       "        vertical-align: middle;\n",
       "    }\n",
       "\n",
       "    .dataframe tbody tr th {\n",
       "        vertical-align: top;\n",
       "    }\n",
       "\n",
       "    .dataframe thead th {\n",
       "        text-align: right;\n",
       "    }\n",
       "</style>\n",
       "<table border=\"1\" class=\"dataframe\">\n",
       "  <thead>\n",
       "    <tr style=\"text-align: right;\">\n",
       "      <th></th>\n",
       "      <th>original_title</th>\n",
       "      <th>overview</th>\n",
       "      <th>id</th>\n",
       "      <th>genres</th>\n",
       "      <th>original_language</th>\n",
       "      <th>production_companies</th>\n",
       "    </tr>\n",
       "  </thead>\n",
       "  <tbody>\n",
       "    <tr>\n",
       "      <th>0</th>\n",
       "      <td>Toy Story</td>\n",
       "      <td>Led by Woody, Andy's toys live happily in his ...</td>\n",
       "      <td>862</td>\n",
       "      <td>[{'id': 16, 'name': 'Animation'}, {'id': 35, '...</td>\n",
       "      <td>en</td>\n",
       "      <td>[{'name': 'Pixar Animation Studios', 'id': 3}]</td>\n",
       "    </tr>\n",
       "    <tr>\n",
       "      <th>1</th>\n",
       "      <td>Jumanji</td>\n",
       "      <td>When siblings Judy and Peter discover an encha...</td>\n",
       "      <td>8844</td>\n",
       "      <td>[{'id': 12, 'name': 'Adventure'}, {'id': 14, '...</td>\n",
       "      <td>en</td>\n",
       "      <td>[{'name': 'TriStar Pictures', 'id': 559}, {'na...</td>\n",
       "    </tr>\n",
       "    <tr>\n",
       "      <th>2</th>\n",
       "      <td>Grumpier Old Men</td>\n",
       "      <td>A family wedding reignites the ancient feud be...</td>\n",
       "      <td>15602</td>\n",
       "      <td>[{'id': 10749, 'name': 'Romance'}, {'id': 35, ...</td>\n",
       "      <td>en</td>\n",
       "      <td>[{'name': 'Warner Bros.', 'id': 6194}, {'name'...</td>\n",
       "    </tr>\n",
       "    <tr>\n",
       "      <th>3</th>\n",
       "      <td>Waiting to Exhale</td>\n",
       "      <td>Cheated on, mistreated and stepped on, the wom...</td>\n",
       "      <td>31357</td>\n",
       "      <td>[{'id': 35, 'name': 'Comedy'}, {'id': 18, 'nam...</td>\n",
       "      <td>en</td>\n",
       "      <td>[{'name': 'Twentieth Century Fox Film Corporat...</td>\n",
       "    </tr>\n",
       "    <tr>\n",
       "      <th>4</th>\n",
       "      <td>Father of the Bride Part II</td>\n",
       "      <td>Just when George Banks has recovered from his ...</td>\n",
       "      <td>11862</td>\n",
       "      <td>[{'id': 35, 'name': 'Comedy'}]</td>\n",
       "      <td>en</td>\n",
       "      <td>[{'name': 'Sandollar Productions', 'id': 5842}...</td>\n",
       "    </tr>\n",
       "  </tbody>\n",
       "</table>\n",
       "</div>"
      ],
      "text/plain": [
       "                original_title  \\\n",
       "0                    Toy Story   \n",
       "1                      Jumanji   \n",
       "2             Grumpier Old Men   \n",
       "3            Waiting to Exhale   \n",
       "4  Father of the Bride Part II   \n",
       "\n",
       "                                            overview     id  \\\n",
       "0  Led by Woody, Andy's toys live happily in his ...    862   \n",
       "1  When siblings Judy and Peter discover an encha...   8844   \n",
       "2  A family wedding reignites the ancient feud be...  15602   \n",
       "3  Cheated on, mistreated and stepped on, the wom...  31357   \n",
       "4  Just when George Banks has recovered from his ...  11862   \n",
       "\n",
       "                                              genres original_language  \\\n",
       "0  [{'id': 16, 'name': 'Animation'}, {'id': 35, '...                en   \n",
       "1  [{'id': 12, 'name': 'Adventure'}, {'id': 14, '...                en   \n",
       "2  [{'id': 10749, 'name': 'Romance'}, {'id': 35, ...                en   \n",
       "3  [{'id': 35, 'name': 'Comedy'}, {'id': 18, 'nam...                en   \n",
       "4                     [{'id': 35, 'name': 'Comedy'}]                en   \n",
       "\n",
       "                                production_companies  \n",
       "0     [{'name': 'Pixar Animation Studios', 'id': 3}]  \n",
       "1  [{'name': 'TriStar Pictures', 'id': 559}, {'na...  \n",
       "2  [{'name': 'Warner Bros.', 'id': 6194}, {'name'...  \n",
       "3  [{'name': 'Twentieth Century Fox Film Corporat...  \n",
       "4  [{'name': 'Sandollar Productions', 'id': 5842}...  "
      ]
     },
     "execution_count": 81,
     "metadata": {},
     "output_type": "execute_result"
    }
   ],
   "source": [
    "# we want to only keep the columns that are relevant for our task and drop the rest.\n",
    "\n",
    "df = df[['original_title','overview','id','genres','original_language','production_companies']]\n",
    "df_copy = df.copy()\n",
    "df_copy.head()"
   ]
  },
  {
   "cell_type": "code",
   "execution_count": 58,
   "metadata": {},
   "outputs": [],
   "source": [
    "# list of genres that do not really make sense and appear only once so I decided to remove them.\n",
    "\n",
    "weird_genres = ['TV Movie', 'Carousel Productions', 'Vision View Entertainment',\n",
    " 'Telescene Film Group Productions', 'Aniplex', 'GoHands',\n",
    " 'BROSTA TV', 'Mardock Scramble Production Committee', 'Sentai Filmworks',\n",
    " 'Odyssey Media', 'Pulser Productions', 'Rogue State', 'The Cartel']"
   ]
  },
  {
   "cell_type": "code",
   "execution_count": 59,
   "metadata": {},
   "outputs": [],
   "source": [
    "# This function cleans up the column containing the movie genres, which has a really weird formatting.\n",
    "\n",
    "def clean_genres(df):\n",
    "    list_of_genres = []\n",
    "    for i,row in df['genres'].iteritems():\n",
    "        row = ast.literal_eval(row)\n",
    "        row_list = []\n",
    "        for dic in row:\n",
    "            if dic['name'] not in weird_genres:\n",
    "                row_list.append(dic['name'])\n",
    "        list_of_genres.append(row_list)\n",
    "    return list_of_genres\n",
    "        \n",
    "df['genres'] = clean_genres(df)\n"
   ]
  },
  {
   "cell_type": "code",
   "execution_count": 66,
   "metadata": {},
   "outputs": [
    {
     "data": {
      "text/plain": [
       "Index(['original_title', 'overview', 'id', 'genres', 'poster_paths'], dtype='object')"
      ]
     },
     "execution_count": 66,
     "metadata": {},
     "output_type": "execute_result"
    }
   ],
   "source": [
    "df.columns"
   ]
  },
  {
   "cell_type": "code",
   "execution_count": 61,
   "metadata": {},
   "outputs": [
    {
     "data": {
      "text/plain": [
       "(42306, 6)"
      ]
     },
     "execution_count": 61,
     "metadata": {},
     "output_type": "execute_result"
    }
   ],
   "source": [
    "# dropping occurrences that appear only once and NaNs\n",
    "\n",
    "df = df[df['genres'].map(lambda d: len(d)) > 0].dropna()\n",
    "df.shape"
   ]
  },
  {
   "cell_type": "code",
   "execution_count": 62,
   "metadata": {},
   "outputs": [],
   "source": [
    "# removing all rows of non English movies\n",
    "\n",
    "def isEnglish(s):\n",
    "    return s.isascii()\n",
    "def remove_noneng_titles(df):\n",
    "    noneng = []\n",
    "    for title in df['original_title'].tolist():\n",
    "        if not isEnglish(title):\n",
    "            noneng.append(title)\n",
    "    df = df[~df['original_title'].isin(noneng)]\n",
    "    return df\n",
    "df = remove_noneng_titles(df)"
   ]
  },
  {
   "cell_type": "code",
   "execution_count": 22,
   "metadata": {},
   "outputs": [
    {
     "data": {
      "image/png": "[encoded data removed]",
      "text/plain": [
       "<Figure size 432x288 with 1 Axes>"
      ]
     },
     "metadata": {
      "needs_background": "light"
     },
     "output_type": "display_data"
    }
   ],
   "source": [
    "# This function plots the distribution of movie genres in the dataset. \n",
    "\n",
    "def plot_distribution(df):\n",
    "    genres = df.genres.values\n",
    "    flattened_genres = [item for sublist in genres for item in sublist]\n",
    "    count_of_genres = Counter(flattened_genres)    \n",
    "    fig, ax = plt.subplots()\n",
    "    plt.bar(count_of_genres.keys(), count_of_genres.values())\n",
    "    plt.title(\"Genre Distribution\")\n",
    "    plt.ylabel('Genre Frequency')\n",
    "    plt.xlabel('Genres')\n",
    "    # Rotate 45 degrees \n",
    "    plt.setp(ax.xaxis.get_majorticklabels(), rotation=45, ha=\"right\" )\n",
    "    plt.gcf().subplots_adjust(bottom=0.15)\n",
    "    plt.show()\n",
    "    \n",
    "plot_distribution(df)   "
   ]
  },
  {
   "cell_type": "code",
   "execution_count": 23,
   "metadata": {},
   "outputs": [],
   "source": [
    "# This function uses the TMDB API to retrieve a url of every movie poster and then it downloads it locally.\n",
    "def get_data(movie_id):\n",
    "    # I use try - except to avoid my function crashing from potential errors (e.g. in the case that there is no poster in the json dictionary)\n",
    "    try:\n",
    "        url = f\"https://api.themoviedb.org/3/movie/{movie_id}?api_key={api_key}\"\n",
    "     \n",
    "        request = Request(url)\n",
    "        response = urlopen(request)\n",
    "        data = response.read()\n",
    "        poster_path = json.loads(data)['poster_path']        \n",
    "        init_url = 'https://image.tmdb.org/t/p/w500'\n",
    "        image_url = init_url + poster_path     \n",
    "        r = requests.get(image_url)\n",
    "        name = poster_path.replace('/', '_') \n",
    "        filename = f\"poster{name}\"\n",
    "        pa = os.path.join('/home/gusmavko@GU.GU.SE/aics-project/data/images', filename)        \n",
    "        # preferred for \"binary\" filetypes, like poster images\n",
    "        with open(pa,'wb') as w:\n",
    "            w.write(r.content)       \n",
    "        return pa\n",
    "    except Exception:\n",
    "        return 'Error'"
   ]
  },
  {
   "cell_type": "code",
   "execution_count": 24,
   "metadata": {},
   "outputs": [],
   "source": [
    "# This function iterates through the dataframe id column and downloads the posters for all movies that have an available poster url.\n",
    "def add_poster(df): \n",
    "    poster_paths = []\n",
    "    for movie_id in tqdm.tqdm(df['id'].tolist()):\n",
    "        try:\n",
    "            poster_paths.append(get_data(movie_id))\n",
    "            print(movie_id)\n",
    "        except Exception as e:\n",
    "            print('[ERROR]', str(e))\n",
    "            poster_paths.append(\"API Error\")\n",
    "    \n",
    "    return poster_paths\n"
   ]
  },
  {
   "cell_type": "code",
   "execution_count": null,
   "metadata": {},
   "outputs": [],
   "source": [
    "# This takes so long to run, I have downloaded them locally so I can perhaps just upload them on drive if somebody does not want to run this.\n",
    "\n",
    "list_of_posters = add_poster(df)"
   ]
  },
  {
   "cell_type": "code",
   "execution_count": 27,
   "metadata": {},
   "outputs": [
    {
     "ename": "NameError",
     "evalue": "name 'list_of_posters' is not defined",
     "output_type": "error",
     "traceback": [
      "\u001b[0;31m---------------------------------------------------------------------------\u001b[0m",
      "\u001b[0;31mNameError\u001b[0m                                 Traceback (most recent call last)",
      "\u001b[0;32m<ipython-input-27-fe4f76dbb3e4>\u001b[0m in \u001b[0;36m<module>\u001b[0;34m\u001b[0m\n\u001b[1;32m      9\u001b[0m     \u001b[0mdf\u001b[0m \u001b[0;34m=\u001b[0m \u001b[0mdf\u001b[0m\u001b[0;34m[\u001b[0m\u001b[0mdf\u001b[0m\u001b[0;34m.\u001b[0m\u001b[0mposter_paths\u001b[0m \u001b[0;34m!=\u001b[0m \u001b[0munidentifiable_image_file\u001b[0m\u001b[0;34m]\u001b[0m\u001b[0;34m\u001b[0m\u001b[0;34m\u001b[0m\u001b[0m\n\u001b[1;32m     10\u001b[0m     \u001b[0;32mreturn\u001b[0m \u001b[0mdf\u001b[0m\u001b[0;34m\u001b[0m\u001b[0;34m\u001b[0m\u001b[0m\n\u001b[0;32m---> 11\u001b[0;31m \u001b[0mdf\u001b[0m \u001b[0;34m=\u001b[0m \u001b[0mfinalize_df\u001b[0m\u001b[0;34m(\u001b[0m\u001b[0mdf\u001b[0m\u001b[0;34m)\u001b[0m\u001b[0;34m\u001b[0m\u001b[0;34m\u001b[0m\u001b[0m\n\u001b[0m",
      "\u001b[0;32m<ipython-input-27-fe4f76dbb3e4>\u001b[0m in \u001b[0;36mfinalize_df\u001b[0;34m(df)\u001b[0m\n\u001b[1;32m      4\u001b[0m     \u001b[0;31m# There is something wrong with this image, it can't be opened so I decided to just drop it.\u001b[0m\u001b[0;34m\u001b[0m\u001b[0;34m\u001b[0m\u001b[0;34m\u001b[0m\u001b[0m\n\u001b[1;32m      5\u001b[0m     \u001b[0munidentifiable_image_file\u001b[0m \u001b[0;34m=\u001b[0m \u001b[0;34m'/home/gusmavko@GU.GU.SE/aics-project/data/images/poster_b15FrCKeWVH62Sn3o69ZXZi3bBi.jpg'\u001b[0m\u001b[0;34m\u001b[0m\u001b[0;34m\u001b[0m\u001b[0m\n\u001b[0;32m----> 6\u001b[0;31m     \u001b[0mdf\u001b[0m\u001b[0;34m[\u001b[0m\u001b[0;34m'poster_paths'\u001b[0m\u001b[0;34m]\u001b[0m \u001b[0;34m=\u001b[0m \u001b[0mlist_of_posters\u001b[0m\u001b[0;34m\u001b[0m\u001b[0;34m\u001b[0m\u001b[0m\n\u001b[0m\u001b[1;32m      7\u001b[0m     \u001b[0mdf\u001b[0m \u001b[0;34m=\u001b[0m \u001b[0mdf\u001b[0m\u001b[0;34m[\u001b[0m\u001b[0mdf\u001b[0m\u001b[0;34m.\u001b[0m\u001b[0mposter_paths\u001b[0m \u001b[0;34m!=\u001b[0m \u001b[0;34m\"API Error\"\u001b[0m\u001b[0;34m]\u001b[0m\u001b[0;34m\u001b[0m\u001b[0;34m\u001b[0m\u001b[0m\n\u001b[1;32m      8\u001b[0m     \u001b[0mdf\u001b[0m \u001b[0;34m=\u001b[0m \u001b[0mdf\u001b[0m\u001b[0;34m[\u001b[0m\u001b[0mdf\u001b[0m\u001b[0;34m.\u001b[0m\u001b[0mposter_paths\u001b[0m \u001b[0;34m!=\u001b[0m \u001b[0;34m\"Error\"\u001b[0m\u001b[0;34m]\u001b[0m\u001b[0;34m\u001b[0m\u001b[0;34m\u001b[0m\u001b[0m\n",
      "\u001b[0;31mNameError\u001b[0m: name 'list_of_posters' is not defined"
     ]
    }
   ],
   "source": [
    "# I also dropped all rows that did not have a poster or movies that caused an error. \n",
    "    \n",
    "def finalize_df(df):\n",
    "    # There is something wrong with this image, it can't be opened so I decided to just drop it.\n",
    "    unidentifiable_image_file = '/home/gusmavko@GU.GU.SE/aics-project/data/images/poster_b15FrCKeWVH62Sn3o69ZXZi3bBi.jpg'\n",
    "    df['poster_paths'] = list_of_posters  \n",
    "    df = df[df.poster_paths != \"API Error\"]\n",
    "    df = df[df.poster_paths != \"Error\"]\n",
    "    df = df[df.poster_paths != unidentifiable_image_file]\n",
    "    return df\n",
    "df = finalize_df(df)"
   ]
  },
  {
   "cell_type": "code",
   "execution_count": null,
   "metadata": {},
   "outputs": [],
   "source": [
    "# save to csv file to be able to load it easily later\n",
    "df.to_csv(\"/home/gusmavko@GU.GU.SE/aics-project/data/dataset.csv\",index=False)"
   ]
  },
  {
   "cell_type": "code",
   "execution_count": 87,
   "metadata": {},
   "outputs": [
    {
     "data": {
      "text/plain": [
       "(28466, 24)"
      ]
     },
     "execution_count": 87,
     "metadata": {},
     "output_type": "execute_result"
    }
   ],
   "source": [
    "#df = pd.read_csv(\"/home/gusmavko@GU.GU.SE/aics-project/data/dataset.csv\")\n",
    "\n",
    "#df = remove_noneng_titles(df)\n",
    "np.random.seed(10)\n",
    "#\n",
    "remove_n = 17000\n",
    "#df = pd.DataFrame({\"a\":[1,2,3,4], \"b\":[5,6,7,8]})\n",
    "drop_indices = np.random.choice(df.index, remove_n, replace=False)\n",
    "df = df.drop(drop_indices)\n",
    "#df_subset.shape[0]\n",
    "df.shape\n",
    "df.to_csv('\"/home/gusmavko@GU.GU.SE/aics-project/data/half_data.csv\",index=False')"
   ]
  },
  {
   "cell_type": "code",
   "execution_count": 88,
   "metadata": {},
   "outputs": [],
   "source": [
    "train, test = train_test_split(df, test_size=0.2, random_state=42)\n",
    "train, val = train_test_split(train, test_size=0.1, random_state = 42)\n",
    "\n"
   ]
  },
  {
   "cell_type": "code",
   "execution_count": 89,
   "metadata": {},
   "outputs": [
    {
     "data": {
      "text/plain": [
       "(12567, 5)"
      ]
     },
     "execution_count": 89,
     "metadata": {},
     "output_type": "execute_result"
    }
   ],
   "source": [
    "#val.to_csv(\"/home/gusmavko@GU.GU.SE/aics-project/data/val_half.csv\",index=False)\n",
    "#test.to_csv(\"/home/gusmavko@GU.GU.SE/aics-project/data/test_half.csv\",index=False)\n",
    "#train.to_csv(\"/home/gusmavko@GU.GU.SE/aics-project/data/train_half.csv\",index=False)\n",
    "\n",
    "val_df = pd.read_csv('/home/gusmavko@GU.GU.SE/aics-project/data/val_half.csv')\n",
    "test_df = pd.read_csv('/home/gusmavko@GU.GU.SE/aics-project/data/test_half.csv')\n",
    "train_df = pd.read_csv('/home/gusmavko@GU.GU.SE/aics-project/data/train_half.csv')\n",
    "\n",
    "train_df.shape"
   ]
  },
  {
   "cell_type": "code",
   "execution_count": 90,
   "metadata": {},
   "outputs": [],
   "source": [
    "# This function makes a tensor out of an image array and saves it to the gpu.\n",
    "def create_img_tensor(img_path, dimensions):\n",
    "    try:\n",
    "        img=Image.open(img_path)\n",
    "        res_img = img.resize(dimensions).convert('RGB')\n",
    "        img_array = np.array(res_img)\n",
    "        img_tensor = torch.tensor(img_array)#.to(device) # commented it out the saving to the gpu server because it caused a lot of memory errors when experimenting with the model\n",
    "    \n",
    "        return img_tensor\n",
    "    except Exception as e:\n",
    "        print(str(e))\n",
    "        return None\n"
   ]
  },
  {
   "cell_type": "code",
   "execution_count": 91,
   "metadata": {},
   "outputs": [],
   "source": [
    "# This function iterates through the dataframe and creates tensor representations of all images\n",
    "def get_tensors(df,dimensions): # dimensions should be a tuple containing (width, height) e.g. (100,100)\n",
    "    \n",
    "    list_imgs = [] \n",
    "    for i, row in df.iterrows():\n",
    "        img = create_img_tensor(row['poster_paths'], dimensions)\n",
    "        if img is not None:\n",
    "            list_imgs.append(img)\n",
    "        else:\n",
    "            df = df.drop(i)            \n",
    "    df_tensors = torch.stack(list_imgs)\n",
    "    return df_tensors#.to(device)\n",
    "    "
   ]
  },
  {
   "cell_type": "code",
   "execution_count": 92,
   "metadata": {},
   "outputs": [],
   "source": [
    "# get tensor of tensors for validation set\n",
    "val_tensors = get_tensors(val_df,(100,100))"
   ]
  },
  {
   "cell_type": "code",
   "execution_count": 93,
   "metadata": {},
   "outputs": [],
   "source": [
    "#with open('/home/gusmavko@GU.GU.SE/aics-project/data/val_tensors','wb') as f: pickle.dump(val_tensors, f)\n",
    "\n",
    "torch.save(val_tensors, '/home/gusmavko@GU.GU.SE/aics-project/data/val_half_tensors.pt')"
   ]
  },
  {
   "cell_type": "code",
   "execution_count": 94,
   "metadata": {},
   "outputs": [],
   "source": [
    "# get tensor of tensors for test set\n",
    "test_tensors = get_tensors(test_df,(100,100))"
   ]
  },
  {
   "cell_type": "code",
   "execution_count": 95,
   "metadata": {},
   "outputs": [],
   "source": [
    "#with open('/home/gusmavko@GU.GU.SE/aics-project/data/test_tensors','wb') as f: pickle.dump(test_tensors, f)\n",
    "torch.save(test_tensors,'/home/gusmavko@GU.GU.SE/aics-project/data/test_half_tensors.pt')"
   ]
  },
  {
   "cell_type": "code",
   "execution_count": 96,
   "metadata": {},
   "outputs": [],
   "source": [
    "# get tensor of tensors for train set\n",
    "train_tensors = get_tensors(train_df,(100,100))\n"
   ]
  },
  {
   "cell_type": "code",
   "execution_count": 97,
   "metadata": {},
   "outputs": [],
   "source": [
    "#with open('/home/gusmavko@GU.GU.SE/aics-project/data/train_tensors','wb') as f: pickle.dump(train_tensors, f)\n",
    "torch.save(train_tensors,'/home/gusmavko@GU.GU.SE/aics-project/data/train_half_tensors.pt')"
   ]
  },
  {
   "cell_type": "code",
   "execution_count": 98,
   "metadata": {},
   "outputs": [
    {
     "data": {
      "text/plain": [
       "torch.Size([12567, 100, 100, 3])"
      ]
     },
     "execution_count": 98,
     "metadata": {},
     "output_type": "execute_result"
    }
   ],
   "source": [
    "train_tensors.shape"
   ]
  },
  {
   "cell_type": "markdown",
   "metadata": {},
   "source": [
    "## MODEL"
   ]
  },
  {
   "cell_type": "code",
   "execution_count": 9,
   "metadata": {},
   "outputs": [],
   "source": [
    "# I have the tensors saved locally, I can upload them on my repo too\n",
    "# I usually start things from this point\n",
    "\n",
    "val_tensors = torch.load('/home/gusmavko@GU.GU.SE/aics-project/data/val_half_tensors.pt')\n",
    "test_tensors = torch.load('/home/gusmavko@GU.GU.SE/aics-project/data/test_half_tensors.pt')\n",
    "train_tensors = torch.load('/home/gusmavko@GU.GU.SE/aics-project/data/train_half_tensors.pt')"
   ]
  },
  {
   "cell_type": "code",
   "execution_count": 10,
   "metadata": {},
   "outputs": [],
   "source": [
    "df = pd.read_csv('/home/gusmavko@GU.GU.SE/aics-project/data/dataset.csv')\n",
    "\n",
    "train_df = pd.read_csv(\"/home/gusmavko@GU.GU.SE/aics-project/data/train_dataset.csv\")\n",
    "test_df = pd.read_csv(\"/home/gusmavko@GU.GU.SE/aics-project/data/test_dataset.csv\")\n",
    "val_df = pd.read_csv(\"/home/gusmavko@GU.GU.SE/aics-project/data/val_dataset.csv\")\n",
    "\n",
    "df['genres']=df['genres'].apply(lambda x: ast.literal_eval(x))\n",
    "\n",
    "train_df['genres']=train_df['genres'].apply(lambda x: ast.literal_eval(x))\n",
    "test_df['genres']=test_df['genres'].apply(lambda x: ast.literal_eval(x))\n",
    "val_df['genres']=val_df['genres'].apply(lambda x: ast.literal_eval(x))\n",
    "\n"
   ]
  },
  {
   "cell_type": "code",
   "execution_count": 11,
   "metadata": {},
   "outputs": [],
   "source": [
    "mlb = MultiLabelBinarizer()\n",
    "# We need to pass a list of lists of the labels to get a one-hot encoding for the train, the test and the validation dataset.\n",
    "\n",
    "# Fitting the multilabel binarizer to the labels available.\n",
    "#mlb.fit(df['genres'].tolist())\n",
    "\n",
    "train_labels = mlb.fit_transform(train_df['genres'].tolist())\n",
    "test_labels = mlb.fit_transform(test_df['genres'].tolist())\n",
    "val_labels = mlb.fit_transform(val_df['genres'].tolist())\n"
   ]
  },
  {
   "cell_type": "code",
   "execution_count": 6,
   "metadata": {},
   "outputs": [
    {
     "data": {
      "image/png": "[encoded data removed]",
      "text/plain": [
       "<Figure size 432x288 with 1 Axes>"
      ]
     },
     "metadata": {
      "needs_background": "light"
     },
     "output_type": "display_data"
    }
   ],
   "source": [
    "# This function creates a dictionary that has the number of movie labels as a key \n",
    "# and the number of occurrences of this number of labels as a value.\n",
    "\n",
    "def plot_num_labels_movies(genre_lists):\n",
    "    dic = {}\n",
    "    for genre_list in genre_lists:\n",
    "        if len(genre_list) in dic:\n",
    "            dic[len(genre_list)] += 1\n",
    "            \n",
    "        else:\n",
    "            dic[len(genre_list)] = 1\n",
    "    return dic \n",
    "\n",
    "plot_dic = plot_num_labels_movies(df.genres.tolist())\n",
    "plt.bar(*zip(*plot_dic.items()))\n",
    "plt.title('Occurrences of different number of labels in the dataset')\n",
    "plt.xlabel('Number of labels')\n",
    "plt.ylabel('Number of occurrences')\n",
    "plt.show()\n"
   ]
  },
  {
   "cell_type": "code",
   "execution_count": 12,
   "metadata": {},
   "outputs": [],
   "source": [
    "swords = stopwords.words('english')\n",
    "reg_ex_tokenizer = RegexpTokenizer(r'\\w+')\n",
    "lemmatizer = WordNetLemmatizer()\n",
    "#stemmer = Porter\n",
    "\n",
    "# Thought about using different cleaning up methods for titles and summary.\n",
    "def clean(text,is_for_summary=True):\n",
    "    # removing punctuation and digits\n",
    "    text = ''.join([c for c in text if c not in string.punctuation and not c.isdigit()])\n",
    "    # tokenizing with the RegexpTokenizer and lowercasing the text\n",
    "    text = reg_ex_tokenizer.tokenize(text.lower())\n",
    "    # removing stop words if cleaning is applied on the overview - if we clean up the titles we keep the stop words since certain titles contain solely stop words(e.g. 'Who am I?').\n",
    "    # maybe I should filter out stop words in titles too and only keep them when there are no other words.\n",
    "    if is_for_summary:        \n",
    "        text = [w for w in text if w not in swords]\n",
    "    # lemmatizing the words with the WordNetLemmatizer and using join to put them back into a string\n",
    "    text = ' '.join([lemmatizer.lemmatize(w) for w in text])\n",
    "    return text"
   ]
  },
  {
   "cell_type": "code",
   "execution_count": 13,
   "metadata": {},
   "outputs": [],
   "source": [
    "# creating new column consisting of both the title and the overview, which I will use when I want to \n",
    "#train a model with title, overview and image input.\n",
    "train_df['title_and_overview'] = train_df['original_title'] + ' ' + train_df['overview']\n",
    "test_df['title_and_overview'] = test_df['original_title'] + ' ' + test_df['overview']\n",
    "val_df['title_and_overview'] = val_df['original_title'] + ' ' + val_df['overview']\n",
    "\n"
   ]
  },
  {
   "cell_type": "code",
   "execution_count": 14,
   "metadata": {},
   "outputs": [],
   "source": [
    "# Cleaning up the orignal dataframe's overview and original_title column.\n",
    "df['overview'] = df['overview'].apply(lambda x: clean(x))\n",
    "df['original_title'] = df['original_title'].apply(lambda x: clean(x))\n",
    "\n",
    "# Cleaning up the overview column.\n",
    "train_df['overview'] = train_df['overview'].apply(lambda x: clean(x))\n",
    "test_df['overview'] = test_df['overview'].apply(lambda x: clean(x))\n",
    "val_df['overview'] = val_df['overview'].apply(lambda x: clean(x))\n",
    "\n",
    "# Cleaning up the original title column.\n",
    "train_df['original_title'] = train_df['original_title'].apply(lambda x: clean(x,False))\n",
    "test_df['original_title'] = test_df['original_title'].apply(lambda x: clean(x,False))\n",
    "val_df['original_title'] = val_df['original_title'].apply(lambda x: clean(x,False))\n"
   ]
  },
  {
   "cell_type": "code",
   "execution_count": 49,
   "metadata": {},
   "outputs": [
    {
     "data": {
      "text/plain": [
       "'boy michael jackson king even waihau bay new zealand meet boy yearold life farm gran goat younger brother rocky think magic power shortly gran leaf week boy father alamein appears blue imagined heroic version father absence boy come face face real versionan incompetent hoodlum returned find bag money buried year goat enters'"
      ]
     },
     "execution_count": 49,
     "metadata": {},
     "output_type": "execute_result"
    }
   ],
   "source": [
    "# creating new column consisting of both the title and the overview, which I will use when I want to \n",
    "#train a model with title, overview and image input.\n",
    "train_df['title_and_overview'] = train_df['original_title'] + ' ' + train_df['overview']\n",
    "test_df['title_and_overview'] = test_df['original_title'] + ' ' + test_df['overview']\n",
    "val_df['title_and_overview'] = val_df['original_title'] + ' ' + val_df['overview']\n",
    "df['title_and_overview'] = df['original_title'] + ' ' + df['overview']\n",
    "\n",
    "train_df['title_and_overview'][0]"
   ]
  },
  {
   "cell_type": "code",
   "execution_count": 60,
   "metadata": {},
   "outputs": [],
   "source": [
    "\n",
    "\n",
    "\n",
    "def trim_string(x):\n",
    "    x = x.split()\n",
    "    x = x[:400]\n",
    "    x = ' '.join(x)\n",
    "    return x\n",
    "# Cleaning up the original title column.\n"
   ]
  },
  {
   "cell_type": "code",
   "execution_count": 61,
   "metadata": {},
   "outputs": [],
   "source": [
    "train_df['title_and_overview'] = train_df['title_and_overview'].apply(trim_string)\n",
    "test_df['title_and_overview'] = test_df['title_and_overview'].apply(trim_string)\n",
    "val_df['title_and_overview'] = val_df['title_and_overview'].apply(trim_string)\n",
    "\n",
    "\n"
   ]
  },
  {
   "cell_type": "code",
   "execution_count": null,
   "metadata": {},
   "outputs": [],
   "source": [
    "# Cleaned-up original_title and overview datadrame version is saved to csv files.\n",
    "\n",
    "#train_df.to_csv('/home/gusmavko@GU.GU.SE/aics-project/data/train_ds.csv',index=False)\n",
    "#test_df.to_csv('/home/gusmavko@GU.GU.SE/aics-project/data/test_ds.csv',index=False)\n",
    "#val_df.to_csv('/home/gusmavko@GU.GU.SE/aics-project/data/val_ds.csv',index=False)  \n",
    "#df.to_csv('/home/gusmavko@GU.GU.SE/aics-project/data/df_ds.csv',index=False)\n",
    "                "
   ]
  },
  {
   "cell_type": "code",
   "execution_count": null,
   "metadata": {},
   "outputs": [],
   "source": [
    "# Reloading the cleaned up csv files as dataframes.\n",
    "train_df = pd.read_csv('/home/gusmavko@GU.GU.SE/aics-project/data/train_ds.csv')\n",
    "test_df = pd.read_csv('/home/gusmavko@GU.GU.SE/aics-project/data/test_ds.csv')\n",
    "val_df = pd.read_csv('/home/gusmavko@GU.GU.SE/aics-project/data/val_ds.csv')\n",
    "df = pd.read_csv('/home/gusmavko@GU.GU.SE/aics-project/data/df_ds.csv')"
   ]
  },
  {
   "cell_type": "code",
   "execution_count": 62,
   "metadata": {},
   "outputs": [],
   "source": [
    "# Merging the two columns containing textual data into one to cover all possible occurrences for words.\n",
    "df_tit_overview = df[['original_title','overview']] \n",
    "df_vocab=df_tit_overview.stack().reset_index()\n",
    "# Getting length of sequences for padding\n",
    "max_len_for_padding = df_vocab[0].map(len).max()\n",
    "max_len_title_overview = df['title_and_overview'].map(len).max()\n",
    "embedding_dim = 300\n",
    "tokenizer = Tokenizer(num_words=50000, lower=True)\n",
    "tokenizer.fit_on_texts(df_vocab[0].values)\n",
    "# Creating a word to integer dictionary for my vocab.\n",
    "word_index = tokenizer.word_index\n"
   ]
  },
  {
   "cell_type": "code",
   "execution_count": 63,
   "metadata": {},
   "outputs": [
    {
     "name": "stderr",
     "output_type": "stream",
     "text": [
      "/home/gusmavko@GU.GU.SE/.local/lib/python3.7/site-packages/ipykernel_launcher.py:4: DeprecationWarning: Call to deprecated `wv` (Attribute will be removed in 4.0.0, use self instead).\n",
      "  after removing the cwd from sys.path.\n"
     ]
    }
   ],
   "source": [
    "def embed_vocab(pretrained_dict, vocab, emb_size):\n",
    "    # creating a dictionary with keys the words and values the pretrained word vectors. \n",
    "    embeddings_index = {}\n",
    "    for w in pretrained_dict.wv.vocab:\n",
    "        embeddings_index[w] = pretrained_dict.word_vec(w)     \n",
    "    # instantiating matrix with shape (vocab + 1, 300)\n",
    "    embedding_matrix = 1 * np.random.randn(len(vocab)+1, emb_size)\n",
    "    # looking up the words in my vocab\n",
    "    for word, i in vocab.items():\n",
    "        i-=1\n",
    "        # getting the pretrained vector for the corresponding word\n",
    "        embedding_vector = embeddings_index.get(word)\n",
    "        if embedding_vector is not None:\n",
    "            # adding the vector to the matrix\n",
    "            embedding_matrix[i] = embedding_vector                      \n",
    "    del(embeddings_index)\n",
    "        \n",
    "    return embedding_matrix\n",
    "\n",
    "# need to download the pretrained vectors file\n",
    "\n",
    "w2v_dic = KeyedVectors.load_word2vec_format(\"/home/gusmavko@GU.GU.SE/aics-project/data/GoogleNews-vectors-negative300.bin\", binary=True)\n",
    "word2vec_matrix = embed_vocab(w2v_dic, word_index, 300)\n",
    "\n",
    "    "
   ]
  },
  {
   "cell_type": "code",
   "execution_count": 18,
   "metadata": {},
   "outputs": [
    {
     "name": "stdout",
     "output_type": "stream",
     "text": [
      "Train overview shape:(24807, 829), Test overview shape:(6892, 829), Validation overview shape:(2757, 829)\n"
     ]
    }
   ],
   "source": [
    "# Transforming each word token from the textual data into the corresponding index. \n",
    "# TODO maybe when padding do I need to pad the titles to the same length as the overview \n",
    "\n",
    "X_text_train = tokenizer.texts_to_sequences(train_df['overview'].values)\n",
    "X_text_train = pad_sequences(X_text_train, maxlen=max_len_for_padding)\n",
    "\n",
    "X_text_test = tokenizer.texts_to_sequences(test_df['overview'].values)\n",
    "X_text_test = pad_sequences(X_text_test, maxlen=max_len_for_padding)\n",
    "\n",
    "X_text_val = tokenizer.texts_to_sequences(val_df['overview'].values)\n",
    "X_text_val = pad_sequences(X_text_val, maxlen=max_len_for_padding)\n",
    "\n",
    "print(f'Train overview shape:{X_text_train.shape}, Test overview shape:{X_text_test.shape}, Validation overview shape:{X_text_val.shape}')"
   ]
  },
  {
   "cell_type": "code",
   "execution_count": 19,
   "metadata": {},
   "outputs": [
    {
     "name": "stdout",
     "output_type": "stream",
     "text": [
      "Train title shape:(24807, 92), Test overview shape:(6892, 92), Validation overview shape:(2757, 92)\n"
     ]
    }
   ],
   "source": [
    "# Tranforming the titles to integer representations.\n",
    "\n",
    "max_len_title = df['original_title'].map(len).max()\n",
    "\n",
    "# train title\n",
    "\n",
    "X_title_train = tokenizer.texts_to_sequences(train_df['original_title'].values)\n",
    "X_title_train = pad_sequences(X_title_train,maxlen=max_len_title)\n",
    "# test title\n",
    "\n",
    "X_title_test = tokenizer.texts_to_sequences(test_df['original_title'].values)\n",
    "X_title_test = pad_sequences(X_title_test,maxlen=max_len_title)\n",
    "\n",
    "# val title\n",
    "X_title_val = tokenizer.texts_to_sequences(val_df['original_title'].values)\n",
    "X_title_val = pad_sequences(X_title_val,maxlen=max_len_title)\n",
    "\n",
    "print(f'Train title shape:{X_title_train.shape}, Test overview shape:{X_title_test.shape}, Validation overview shape:{X_title_val.shape}')"
   ]
  },
  {
   "cell_type": "code",
   "execution_count": 64,
   "metadata": {},
   "outputs": [
    {
     "name": "stdout",
     "output_type": "stream",
     "text": [
      "Train title and overview combination shape:(24807, 400),Test title and overview combination shape:(6892, 400),Val title and overview combination shape:(2757, 400)\n"
     ]
    }
   ],
   "source": [
    "# Transforming the textual data containing the title and the overview into integer representations.\n",
    "max_len_title_overview = 400\n",
    "\n",
    "# train title_and_overview transformation\n",
    "X_title_overview_train = tokenizer.texts_to_sequences(train_df['title_and_overview'].values)\n",
    "X_title_overview_train = pad_sequences(X_title_overview_train,maxlen=max_len_title_overview)\n",
    "\n",
    "# test title_and_overview transformation\n",
    "X_title_overview_test = tokenizer.texts_to_sequences(test_df['title_and_overview'].values)\n",
    "X_title_overview_test = pad_sequences(X_title_overview_test,maxlen=max_len_title_overview)\n",
    "\n",
    "# val title_and_overview transformation\n",
    "X_title_overview_val = tokenizer.texts_to_sequences(val_df['title_and_overview'].values)\n",
    "X_title_overview_val = pad_sequences(X_title_overview_val,maxlen=max_len_title_overview)\n",
    "\n",
    "print(f'Train title and overview combination shape:{X_title_overview_train.shape},Test title and overview combination shape:{X_title_overview_test.shape},Val title and overview combination shape:{X_title_overview_val.shape}')"
   ]
  },
  {
   "cell_type": "code",
   "execution_count": 65,
   "metadata": {},
   "outputs": [],
   "source": [
    "# Changing the dimensions of the tensors for when passing them in batches to the model.\n",
    "X_img_val = val_tensors.permute(0,3,1,2)\n",
    "\n",
    "X_img_test = test_tensors.permute(0,3,1,2)\n",
    "\n",
    "X_img_train = train_tensors.permute(0,3,1,2)"
   ]
  },
  {
   "cell_type": "code",
   "execution_count": 22,
   "metadata": {},
   "outputs": [],
   "source": [
    "# using TensorDataset to transform the arrays into tensors for my overview textual data\n",
    "text_train_data = TensorDataset(torch.from_numpy(X_text_train), torch.from_numpy(train_labels))\n",
    "img_train_data = TensorDataset(X_img_train, torch.from_numpy(train_labels))\n",
    "\n",
    "\n",
    "text_val_data = TensorDataset(torch.from_numpy(X_text_val), torch.from_numpy(val_labels))\n",
    "img_val_data = TensorDataset(X_img_val, torch.from_numpy(val_labels))\n",
    "text_test_data = TensorDataset(torch.from_numpy(X_text_test), torch.from_numpy(test_labels))\n",
    "img_test_data = TensorDataset(X_img_test, torch.from_numpy(test_labels))\n"
   ]
  },
  {
   "cell_type": "code",
   "execution_count": 23,
   "metadata": {},
   "outputs": [],
   "source": [
    "batch_size = 5\n",
    "\n",
    "text_train_loader = DataLoader(text_train_data, batch_size=batch_size)\n",
    "img_train_loader = DataLoader(img_train_data, batch_size=batch_size)\n",
    "\n",
    "text_val_loader = DataLoader(text_val_data, batch_size=batch_size)\n",
    "img_val_loader = DataLoader(img_val_data, batch_size=batch_size)\n",
    "\n",
    "text_test_loader = DataLoader(text_test_data, batch_size=batch_size)\n",
    "img_test_loader = DataLoader(img_test_data, batch_size=batch_size)\n"
   ]
  },
  {
   "cell_type": "markdown",
   "metadata": {},
   "source": [
    "## Overview and Image"
   ]
  },
  {
   "cell_type": "code",
   "execution_count": 43,
   "metadata": {},
   "outputs": [],
   "source": [
    "# Building model for movie genre classification using textual and image features.\n",
    "\n",
    "class CNN_LSTM(nn.Module):\n",
    "    def __init__(self, vocab_size, weights_matrix, n_hidden, n_layers, n_out):\n",
    "        super(CNN_LSTM, self).__init__()\n",
    "\n",
    "        # LSTM for the text overview\n",
    "        self.vocab_size, self.n_hidden, self.n_out, self.n_layers = vocab_size, n_hidden, n_out, n_layers\n",
    "        num_embeddings, embedding_dim = weights_matrix.shape[0], weights_matrix.shape[1]\n",
    "        self.emb = nn.Embedding(num_embeddings, embedding_dim)\n",
    "        self.emb.weight.data.copy_(torch.from_numpy(weights_matrix))\n",
    "        self.emb.weight.requires_grad = True\n",
    "        self.lstm = nn.LSTM(embedding_dim, self.n_hidden, self.n_layers, dropout=0.2, batch_first=True)\n",
    "        self.dropout = nn.Dropout(0.1)\n",
    "        self.lstm_fc = nn.Linear(self.n_hidden, 128)\n",
    "        \n",
    "        # CNN for the posters\n",
    "        self.conv1 = nn.Conv2d(3, 32, 3) # Gives me depth of input.\n",
    "        # pooling layers to reduce the image size\n",
    "        self.max_pool1 = nn.MaxPool2d(2)\n",
    "        self.conv2 = nn.Conv2d(32, 64, 3)\n",
    "        # pooling layers to reduce the image size\n",
    "        self.max_pool2 = nn.MaxPool2d(2)\n",
    "        self.conv3 = nn.Conv2d(64, 128, 3)\n",
    "        # pooling layers to reduce the image size\n",
    "        self.max_pool3 = nn.MaxPool2d(2)\n",
    "        self.conv4 = nn.Conv2d(128, 128, 3)\n",
    "        # pooling layers to reduce the image size\n",
    "        self.max_pool4 = nn.MaxPool2d(2)\n",
    "        # to drop the nodes that are below the wanted weights\n",
    "        self.cnn_dropout = nn.Dropout(0.1)\n",
    "        self.cnn_fc = nn.Linear(4*4*128, 512) # Gives me number of features of input.\n",
    "        \n",
    "        # Concat layer for the combined feature space\n",
    "        self.combined_fc1 = nn.Linear(640, 256) # Give me features of input.\n",
    "        self.combined_fc2 = nn.Linear(256, 128)\n",
    "        self.output_fc = nn.Linear(128, n_out)\n",
    "\n",
    "\n",
    "    def forward(self, lstm_inp, cnn_inp):\n",
    "        batch_size = lstm_inp.size(0)\n",
    "        hidden = self.init_hidden(batch_size)\n",
    "        lstm_inp = lstm_inp.long()\n",
    "        embeds = self.emb(lstm_inp)\n",
    "        lstm_out, hidden = self.lstm(embeds, hidden)\n",
    "        lstm_out = self.dropout(lstm_out[:, -1])\n",
    "        lstm_out = F.relu(self.lstm_fc(lstm_out))\n",
    "\n",
    "        x = F.relu(self.conv1(cnn_inp))\n",
    "        x = self.max_pool1(x)\n",
    "        #print(x.shape)\n",
    "        x = F.relu(self.conv2(x))\n",
    "        x = self.max_pool2(x)\n",
    "        #print(x.shape)\n",
    "        x = F.relu(self.conv3(x))\n",
    "        x = self.max_pool3(x)\n",
    "        #print(x.shape)\n",
    "        x = F.relu(self.conv4(x))\n",
    "        x = self.max_pool4(x)\n",
    "        #print(x.shape) # that is how I get the correct dimensions for the CNN output that is then passed as input to the linear layer\n",
    "        # need the input to be two dimensional again\n",
    "        x = x.view(-1, 4*4*128)\n",
    "        \n",
    "        x = self.cnn_dropout(x)\n",
    "        cnn_out = F.relu(self.cnn_fc(x))\n",
    "        \n",
    "        #concatenating the cnn output and the lstm output\n",
    "        combined_inp = torch.cat((cnn_out, lstm_out), 1)\n",
    "        # activation function\n",
    "        x_comb = F.relu(self.combined_fc1(combined_inp))\n",
    "        x_comb = F.relu(self.combined_fc2(x_comb))\n",
    "        # sigmoid to get 1 and 0 on the one-hot-encoding formatted label\n",
    "        out = torch.sigmoid(self.output_fc(x_comb))\n",
    "\n",
    "        return out\n",
    "\n",
    "    def init_hidden(self, batch_size):\n",
    "        weight = next(self.parameters()).data\n",
    "        hidden = (weight.new(self.n_layers, batch_size, self.n_hidden).zero_().to(device),\n",
    "                          weight.new(self.n_layers, batch_size, self.n_hidden).zero_().to(device))\n",
    "        return hidden"
   ]
  },
  {
   "cell_type": "code",
   "execution_count": 44,
   "metadata": {},
   "outputs": [
    {
     "name": "stdout",
     "output_type": "stream",
     "text": [
      "CNN_LSTM(\n",
      "  (emb): Embedding(72673, 300)\n",
      "  (lstm): LSTM(300, 64, num_layers=2, batch_first=True, dropout=0.2)\n",
      "  (dropout): Dropout(p=0.1, inplace=False)\n",
      "  (lstm_fc): Linear(in_features=64, out_features=128, bias=True)\n",
      "  (conv1): Conv2d(3, 32, kernel_size=(3, 3), stride=(1, 1))\n",
      "  (max_pool1): MaxPool2d(kernel_size=2, stride=2, padding=0, dilation=1, ceil_mode=False)\n",
      "  (conv2): Conv2d(32, 64, kernel_size=(3, 3), stride=(1, 1))\n",
      "  (max_pool2): MaxPool2d(kernel_size=2, stride=2, padding=0, dilation=1, ceil_mode=False)\n",
      "  (conv3): Conv2d(64, 128, kernel_size=(3, 3), stride=(1, 1))\n",
      "  (max_pool3): MaxPool2d(kernel_size=2, stride=2, padding=0, dilation=1, ceil_mode=False)\n",
      "  (conv4): Conv2d(128, 128, kernel_size=(3, 3), stride=(1, 1))\n",
      "  (max_pool4): MaxPool2d(kernel_size=2, stride=2, padding=0, dilation=1, ceil_mode=False)\n",
      "  (cnn_dropout): Dropout(p=0.1, inplace=False)\n",
      "  (cnn_fc): Linear(in_features=2048, out_features=512, bias=True)\n",
      "  (combined_fc1): Linear(in_features=640, out_features=256, bias=True)\n",
      "  (combined_fc2): Linear(in_features=256, out_features=128, bias=True)\n",
      "  (output_fc): Linear(in_features=128, out_features=19, bias=True)\n",
      ")\n"
     ]
    }
   ],
   "source": [
    "vocab_size = len(word_index)+1\n",
    "output_size = train_labels.shape[1]\n",
    "embedding_dim = 300\n",
    "hidden_dim = 64\n",
    "n_layers = 2\n",
    "\n",
    "model = CNN_LSTM(vocab_size, word2vec_matrix, hidden_dim, n_layers, output_size)\n",
    "model.to(device)\n",
    "print(model)\n",
    "\n",
    "lr=0.001\n",
    "# criterion = nn.MultiLabelSoftMarginLoss()\n",
    "criterion = nn.BCELoss()\n",
    "optimizer = torch.optim.Adam(model.parameters(), lr=lr, weight_decay=1e-5)\n"
   ]
  },
  {
   "cell_type": "code",
   "execution_count": 45,
   "metadata": {},
   "outputs": [
    {
     "name": "stdout",
     "output_type": "stream",
     "text": [
      "done training tensor(0.8251, device='cuda:1')\n",
      "Saving model...\n",
      "Epoch 1: train_loss: 0.3006 train_acc: 0.8251 | val_loss: 0.2835 val_acc: 0.8230\n"
     ]
    },
    {
     "ename": "RuntimeError",
     "evalue": "CUDA error: out of memory",
     "output_type": "error",
     "traceback": [
      "\u001b[0;31m---------------------------------------------------------------------------\u001b[0m",
      "\u001b[0;31mRuntimeError\u001b[0m                              Traceback (most recent call last)",
      "\u001b[0;32m<ipython-input-45-e5b020c741ca>\u001b[0m in \u001b[0;36m<module>\u001b[0;34m\u001b[0m\n\u001b[1;32m     55\u001b[0m     \u001b[0mprint\u001b[0m\u001b[0;34m(\u001b[0m\u001b[0;34mf'Epoch {i+1}: train_loss: {train_loss:.4f} train_acc: {train_acc:.4f} | val_loss: {val_loss:.4f} val_acc: {val_acc:.4f}'\u001b[0m\u001b[0;34m)\u001b[0m\u001b[0;34m\u001b[0m\u001b[0;34m\u001b[0m\u001b[0m\n\u001b[1;32m     56\u001b[0m     \u001b[0mmodel\u001b[0m\u001b[0;34m.\u001b[0m\u001b[0mtrain\u001b[0m\u001b[0;34m(\u001b[0m\u001b[0;34m)\u001b[0m\u001b[0;34m\u001b[0m\u001b[0;34m\u001b[0m\u001b[0m\n\u001b[0;32m---> 57\u001b[0;31m     \u001b[0mtorch\u001b[0m\u001b[0;34m.\u001b[0m\u001b[0mcuda\u001b[0m\u001b[0;34m.\u001b[0m\u001b[0mempty_cache\u001b[0m\u001b[0;34m(\u001b[0m\u001b[0;34m)\u001b[0m\u001b[0;34m\u001b[0m\u001b[0;34m\u001b[0m\u001b[0m\n\u001b[0m",
      "\u001b[0;32m/usr/local/lib64/python3.7/site-packages/torch/cuda/memory.py\u001b[0m in \u001b[0;36mempty_cache\u001b[0;34m()\u001b[0m\n\u001b[1;32m     85\u001b[0m     \"\"\"\n\u001b[1;32m     86\u001b[0m     \u001b[0;32mif\u001b[0m \u001b[0mis_initialized\u001b[0m\u001b[0;34m(\u001b[0m\u001b[0;34m)\u001b[0m\u001b[0;34m:\u001b[0m\u001b[0;34m\u001b[0m\u001b[0;34m\u001b[0m\u001b[0m\n\u001b[0;32m---> 87\u001b[0;31m         \u001b[0mtorch\u001b[0m\u001b[0;34m.\u001b[0m\u001b[0m_C\u001b[0m\u001b[0;34m.\u001b[0m\u001b[0m_cuda_emptyCache\u001b[0m\u001b[0;34m(\u001b[0m\u001b[0;34m)\u001b[0m\u001b[0;34m\u001b[0m\u001b[0;34m\u001b[0m\u001b[0m\n\u001b[0m\u001b[1;32m     88\u001b[0m \u001b[0;34m\u001b[0m\u001b[0m\n\u001b[1;32m     89\u001b[0m \u001b[0;34m\u001b[0m\u001b[0m\n",
      "\u001b[0;31mRuntimeError\u001b[0m: CUDA error: out of memory"
     ]
    }
   ],
   "source": [
    "epochs = 20 # try larger number of epochs\n",
    "clip = 5\n",
    "\n",
    "model.train()\n",
    "for i in range(epochs):\n",
    "    total_acc_train = 0\n",
    "    total_loss_train = 0\n",
    "    \n",
    "    for lstm, cnn in zip(text_train_loader, img_train_loader):\n",
    "        lstm_inp,lstm_labels = lstm\n",
    "        lstm_inp = lstm_inp.float()\n",
    "        cnn_inp, cnn_labels = cnn\n",
    "        cnn_inp = cnn_inp.float()\n",
    "        lstm_inp, lstm_labels = lstm_inp.to(device), lstm_labels.to(device)\n",
    "        cnn_inp, cnn_labels = cnn_inp.to(device), cnn_labels.to(device)\n",
    "        model.zero_grad()\n",
    "        output = model(lstm_inp, cnn_inp)\n",
    "        loss = criterion(output.squeeze(), lstm_labels.float())\n",
    "        loss.backward()\n",
    "        nn.utils.clip_grad_norm_(model.parameters(), clip)\n",
    "        optimizer.step()\n",
    "    \n",
    "        with torch.no_grad():\n",
    "            acc = torch.abs(output.squeeze() - lstm_labels.float()).view(-1)\n",
    "            acc = (1. - acc.sum() / acc.size()[0])\n",
    "            total_acc_train += acc\n",
    "            total_loss_train += loss.item()\n",
    "  \n",
    "    train_acc = total_acc_train/len(text_train_loader)\n",
    "    train_loss = total_loss_train/len(text_train_loader)\n",
    "    print('done training',train_acc)\n",
    "    model.eval()\n",
    "    total_acc_val = 0\n",
    "    total_loss_val = 0\n",
    "    with torch.no_grad():\n",
    "        for lstm, cnn in zip(text_val_loader, img_val_loader):\n",
    "            lstm_inp, lstm_labels = lstm\n",
    "            lstm_inp = lstm_inp.float()\n",
    "            cnn_inp, cnn_labels = cnn\n",
    "            cnn_inp = cnn_inp.float()\n",
    "            lstm_inp, lstm_labels = lstm_inp.to(device), lstm_labels.to(device)\n",
    "            cnn_inp, cnn_labels = cnn_inp.to(device), cnn_labels.to(device)\n",
    "            model.zero_grad()\n",
    "            output = model(lstm_inp, cnn_inp)\n",
    "            val_loss = criterion(output.squeeze(), lstm_labels.float())\n",
    "            acc = torch.abs(output.squeeze() - lstm_labels.float()).view(-1)\n",
    "            acc = (1. - acc.sum() / acc.size()[0])\n",
    "            total_acc_val += acc\n",
    "            total_loss_val += val_loss.item()\n",
    "    print(\"Saving model...\") \n",
    "    torch.save(model.state_dict(), '/home/gusmavko@GU.GU.SE/aics-project/data/model_title_img.pt')\n",
    "\n",
    "    val_acc = total_acc_val/len(text_val_loader)\n",
    "    val_loss = total_loss_val/len(text_val_loader)\n",
    "    print(f'Epoch {i+1}: train_loss: {train_loss:.4f} train_acc: {train_acc:.4f} | val_loss: {val_loss:.4f} val_acc: {val_acc:.4f}')\n",
    "    model.train()\n",
    "    torch.cuda.empty_cache()"
   ]
  },
  {
   "cell_type": "markdown",
   "metadata": {},
   "source": [
    "## Attempt at using title, image, poster as input"
   ]
  },
  {
   "cell_type": "code",
   "execution_count": 27,
   "metadata": {},
   "outputs": [],
   "source": [
    "# Attempting to add title when loading the dataset.\n",
    "# Again, using TensorDataset to transform the arrays into tensors for my textual data.\n",
    "\n",
    "## train dataset\n",
    "#text_train_data = TensorDataset(torch.from_numpy(X_text_train), torch.from_numpy(X_title_train), torch.from_numpy(train_labels))\n",
    "##img_train_data = TensorDataset(X_img_train, torch.from_numpy(train_labels))\n",
    "#\n",
    "## validation dataset\n",
    "#text_val_data = TensorDataset(torch.from_numpy(X_text_val), torch.from_numpy(X_title_val), torch.from_numpy(val_labels))\n",
    "##img_val_data = TensorDataset(X_img_val, torch.from_numpy(val_labels))\n",
    "#\n",
    "## test dataset\n",
    "#text_test_data = TensorDataset(torch.from_numpy(X_text_test), torch.from_numpy(test_labels))\n",
    "#img_test_data = TensorDataset(X_img_test, torch.from_numpy(test_labels))\n",
    "#\n",
    "#batch_size = 40\n",
    "#\n",
    "#text_train_loader = DataLoader(text_train_data, batch_size=batch_size)\n",
    "#img_train_loader = DataLoader(img_train_data, batch_size=batch_size)\n",
    "#\n",
    "#text_val_loader = DataLoader(text_val_data, batch_size=batch_size)\n",
    "#img_val_loader = DataLoader(img_val_data, batch_size=batch_size)\n",
    "#\n",
    "#text_test_loader = DataLoader(text_test_data, batch_size=batch_size)\n",
    "#img_test_loader = DataLoader(img_test_data, batch_size=batch_size)\n",
    "\n",
    "# using TensorDataset to transform the arrays into tensors for my overview textual data\n",
    "\n"
   ]
  },
  {
   "cell_type": "code",
   "execution_count": 40,
   "metadata": {},
   "outputs": [
    {
     "name": "stdout",
     "output_type": "stream",
     "text": [
      "CNN_LSTM_3(\n",
      "  (emb): Embedding(72673, 300)\n",
      "  (lstm): LSTM(300, 64, num_layers=2, batch_first=True, dropout=0.2)\n",
      "  (dropout): Dropout(p=0.1, inplace=False)\n",
      "  (lstm_fc): Linear(in_features=64, out_features=128, bias=True)\n",
      "  (conv1): Conv2d(3, 32, kernel_size=(3, 3), stride=(1, 1))\n",
      "  (max_pool1): MaxPool2d(kernel_size=2, stride=2, padding=0, dilation=1, ceil_mode=False)\n",
      "  (conv2): Conv2d(32, 64, kernel_size=(3, 3), stride=(1, 1))\n",
      "  (max_pool2): MaxPool2d(kernel_size=2, stride=2, padding=0, dilation=1, ceil_mode=False)\n",
      "  (conv3): Conv2d(64, 128, kernel_size=(3, 3), stride=(1, 1))\n",
      "  (max_pool3): MaxPool2d(kernel_size=2, stride=2, padding=0, dilation=1, ceil_mode=False)\n",
      "  (conv4): Conv2d(128, 128, kernel_size=(3, 3), stride=(1, 1))\n",
      "  (max_pool4): MaxPool2d(kernel_size=2, stride=2, padding=0, dilation=1, ceil_mode=False)\n",
      "  (cnn_dropout): Dropout(p=0.1, inplace=False)\n",
      "  (cnn_fc): Linear(in_features=2048, out_features=512, bias=True)\n",
      "  (combined_fc1): Linear(in_features=640, out_features=256, bias=True)\n",
      "  (combined_fc2): Linear(in_features=256, out_features=128, bias=True)\n",
      "  (output_fc): Linear(in_features=128, out_features=19, bias=True)\n",
      ")\n",
      "cuda:2\n"
     ]
    }
   ],
   "source": [
    "vocab_size = len(word_index)+1\n",
    "output_size = train_labels.shape[1]\n",
    "embedding_dim = 300\n",
    "hidden_dim = 64\n",
    "n_layers = 2\n",
    "\n",
    "model = CNN_LSTM_3(vocab_size, word2vec_matrix, hidden_dim, n_layers, output_size)\n",
    "model.to(device)\n",
    "print(model)\n",
    "\n",
    "lr=0.001\n",
    "# criterion = nn.MultiLabelSoftMarginLoss()\n",
    "criterion = nn.BCELoss()\n",
    "optimizer = torch.optim.Adam(model.parameters(), lr=lr, weight_decay=1e-5)\n",
    "print(device)"
   ]
  },
  {
   "cell_type": "code",
   "execution_count": 45,
   "metadata": {},
   "outputs": [],
   "source": [
    "# Building model for movie genre classification using textual and image features.\n",
    "\n",
    "class CNN_LSTM_3(nn.Module):\n",
    "    def __init__(self, vocab_size, weights_matrix, n_hidden, n_layers, n_out):\n",
    "        super(CNN_LSTM_3, self).__init__()\n",
    "\n",
    "        # LSTM for the text overview\n",
    "        self.vocab_size, self.n_hidden, self.n_out, self.n_layers = vocab_size, n_hidden, n_out, n_layers\n",
    "        num_embeddings, embedding_dim = weights_matrix.shape[0], weights_matrix.shape[1]\n",
    "        self.emb = nn.Embedding(num_embeddings, embedding_dim)\n",
    "        self.emb.weight.data.copy_(torch.from_numpy(weights_matrix))\n",
    "        self.emb.weight.requires_grad = True\n",
    "        self.lstm = nn.LSTM(embedding_dim, self.n_hidden, self.n_layers, dropout=0.2, batch_first=True)\n",
    "        self.dropout = nn.Dropout(0.1)\n",
    "        self.lstm_fc = nn.Linear(self.n_hidden, 128)\n",
    "        \n",
    "        # CNN for the posters\n",
    "        self.conv1 = nn.Conv2d(3, 32, 3) # Gives me depth of input.\n",
    "        # pooling layers to reduce the image size\n",
    "        self.max_pool1 = nn.MaxPool2d(2)\n",
    "        self.conv2 = nn.Conv2d(32, 64, 3)\n",
    "        # pooling layers to reduce the image size\n",
    "        self.max_pool2 = nn.MaxPool2d(2)\n",
    "        self.conv3 = nn.Conv2d(64, 128, 3)\n",
    "        # pooling layers to reduce the image size\n",
    "        self.max_pool3 = nn.MaxPool2d(2)\n",
    "        self.conv4 = nn.Conv2d(128, 128, 3)\n",
    "        # pooling layers to reduce the image size\n",
    "        self.max_pool4 = nn.MaxPool2d(2)\n",
    "        # to drop the nodes that are below the wanted weights\n",
    "        self.cnn_dropout = nn.Dropout(0.1)\n",
    "        self.cnn_fc = nn.Linear(4*4*128, 512) # Gives me number of features of input.\n",
    "        \n",
    "        # Concat layer for the combined feature space\n",
    "        self.combined_fc1 = nn.Linear(640, 256) # Give me features of input.\n",
    "        self.combined_fc2 = nn.Linear(256, 128)\n",
    "        self.output_fc = nn.Linear(128, n_out)\n",
    "\n",
    "\n",
    "    def forward(self, lstm_in, cnn_inp, title_inp):\n",
    "        batch_size = lstm_in.size(0)\n",
    "        hidden = self.init_hidden(batch_size)\n",
    "        lstm_in = lstm_in.long()\n",
    "        title_inp = title_inp.long()\n",
    "        lstm_inp = torch.cat((lstm_in,title_inp),dim=1)\n",
    "        embeds = self.emb(lstm_inp)\n",
    "        lstm_out, hidden = self.lstm(embeds, hidden)\n",
    "        lstm_out = self.dropout(lstm_out[:, -1])\n",
    "        lstm_out = F.relu(self.lstm_fc(lstm_out))\n",
    "        \n",
    "        # title input\n",
    "        #title_inp = title_inp.long()\n",
    "        #embeds2 = self.emb(title_inp)\n",
    "        #title_out, hidden = self.lstm(embeds2, hidden)\n",
    "        #title_out = self.dropout(title_out[:,-1])\n",
    "        #title_out = F.relu(self.lstm_fc(title_out))\n",
    "        \n",
    "        #combined_text_inp = torch.cat((title_out, lstm_out), 1)\n",
    "        \n",
    "        x = F.relu(self.conv1(cnn_inp))\n",
    "        x = self.max_pool1(x)\n",
    "        #print(x.shape)\n",
    "        x = F.relu(self.conv2(x))\n",
    "        x = self.max_pool2(x)\n",
    "        #print(x.shape)\n",
    "        x = F.relu(self.conv3(x))\n",
    "        x = self.max_pool3(x)\n",
    "        #print(x.shape)\n",
    "        x = F.relu(self.conv4(x))\n",
    "        x = self.max_pool4(x)\n",
    "        #print(x.shape) # that is how I get the correct dimensions for the CNN output that is then passed as input to the linear layer\n",
    "        # need the input to be two dimensional again\n",
    "        x = x.view(-1, 4*4*128)\n",
    "        \n",
    "        x = self.cnn_dropout(x)\n",
    "        cnn_out = F.relu(self.cnn_fc(x))\n",
    "        \n",
    "        #concatenating the cnn output and the lstm output\n",
    "        combined_inp = torch.cat((cnn_out, lstm_out), 1)\n",
    "        # activation function\n",
    "        x_comb = F.relu(self.combined_fc1(combined_inp))\n",
    "        x_comb = F.relu(self.combined_fc2(x_comb))\n",
    "        # sigmoid to get 1 and 0 on the one-hot-encoding formatted label\n",
    "        out = torch.sigmoid(self.output_fc(x_comb))\n",
    "\n",
    "        return out\n",
    "\n",
    "    def init_hidden(self, batch_size):\n",
    "        weight = next(self.parameters()).data\n",
    "        hidden = (weight.new(self.n_layers, batch_size, self.n_hidden).zero_().to(device),\n",
    "                          weight.new(self.n_layers, batch_size, self.n_hidden).zero_().to(device))\n",
    "        return hidden"
   ]
  },
  {
   "cell_type": "code",
   "execution_count": 46,
   "metadata": {},
   "outputs": [
    {
     "name": "stdout",
     "output_type": "stream",
     "text": [
      "CNN_LSTM_3(\n",
      "  (emb): Embedding(72673, 300)\n",
      "  (lstm): LSTM(300, 64, num_layers=2, batch_first=True, dropout=0.2)\n",
      "  (dropout): Dropout(p=0.1, inplace=False)\n",
      "  (lstm_fc): Linear(in_features=64, out_features=128, bias=True)\n",
      "  (conv1): Conv2d(3, 32, kernel_size=(3, 3), stride=(1, 1))\n",
      "  (max_pool1): MaxPool2d(kernel_size=2, stride=2, padding=0, dilation=1, ceil_mode=False)\n",
      "  (conv2): Conv2d(32, 64, kernel_size=(3, 3), stride=(1, 1))\n",
      "  (max_pool2): MaxPool2d(kernel_size=2, stride=2, padding=0, dilation=1, ceil_mode=False)\n",
      "  (conv3): Conv2d(64, 128, kernel_size=(3, 3), stride=(1, 1))\n",
      "  (max_pool3): MaxPool2d(kernel_size=2, stride=2, padding=0, dilation=1, ceil_mode=False)\n",
      "  (conv4): Conv2d(128, 128, kernel_size=(3, 3), stride=(1, 1))\n",
      "  (max_pool4): MaxPool2d(kernel_size=2, stride=2, padding=0, dilation=1, ceil_mode=False)\n",
      "  (cnn_dropout): Dropout(p=0.1, inplace=False)\n",
      "  (cnn_fc): Linear(in_features=2048, out_features=512, bias=True)\n",
      "  (combined_fc1): Linear(in_features=640, out_features=256, bias=True)\n",
      "  (combined_fc2): Linear(in_features=256, out_features=128, bias=True)\n",
      "  (output_fc): Linear(in_features=128, out_features=19, bias=True)\n",
      ")\n"
     ]
    }
   ],
   "source": [
    "device = torch.device('cpu')\n",
    "vocab_size = len(word_index)+1\n",
    "output_size = train_labels.shape[1]\n",
    "embedding_dim = 300\n",
    "hidden_dim = 64\n",
    "n_layers = 2\n",
    "\n",
    "model = CNN_LSTM_3(vocab_size, word2vec_matrix, hidden_dim, n_layers, output_size)\n",
    "model.to(device)\n",
    "print(model)\n",
    "\n",
    "lr=0.001\n",
    "# criterion = nn.MultiLabelSoftMarginLoss()\n",
    "criterion = nn.BCELoss()\n",
    "optimizer = torch.optim.Adam(model.parameters(), lr=lr, weight_decay=1e-5)\n",
    "\n"
   ]
  },
  {
   "cell_type": "code",
   "execution_count": null,
   "metadata": {},
   "outputs": [],
   "source": []
  },
  {
   "cell_type": "code",
   "execution_count": null,
   "metadata": {
    "scrolled": true
   },
   "outputs": [
    {
     "name": "stdout",
     "output_type": "stream",
     "text": [
      "tensor(0.3098, grad_fn=<BinaryCrossEntropyBackward>)\n",
      "tensor(0.2928, grad_fn=<BinaryCrossEntropyBackward>)\n",
      "tensor(0.3475, grad_fn=<BinaryCrossEntropyBackward>)\n",
      "tensor(0.3386, grad_fn=<BinaryCrossEntropyBackward>)\n",
      "tensor(0.3130, grad_fn=<BinaryCrossEntropyBackward>)\n",
      "tensor(0.3185, grad_fn=<BinaryCrossEntropyBackward>)\n",
      "tensor(0.3259, grad_fn=<BinaryCrossEntropyBackward>)\n",
      "tensor(0.3549, grad_fn=<BinaryCrossEntropyBackward>)\n",
      "tensor(0.3241, grad_fn=<BinaryCrossEntropyBackward>)\n",
      "tensor(0.3205, grad_fn=<BinaryCrossEntropyBackward>)\n",
      "tensor(0.3666, grad_fn=<BinaryCrossEntropyBackward>)\n",
      "tensor(0.3545, grad_fn=<BinaryCrossEntropyBackward>)\n",
      "tensor(0.2858, grad_fn=<BinaryCrossEntropyBackward>)\n",
      "tensor(0.3169, grad_fn=<BinaryCrossEntropyBackward>)\n",
      "tensor(0.2699, grad_fn=<BinaryCrossEntropyBackward>)\n",
      "tensor(0.3195, grad_fn=<BinaryCrossEntropyBackward>)\n",
      "tensor(0.3311, grad_fn=<BinaryCrossEntropyBackward>)\n",
      "tensor(0.3425, grad_fn=<BinaryCrossEntropyBackward>)\n",
      "tensor(0.3171, grad_fn=<BinaryCrossEntropyBackward>)\n",
      "tensor(0.3166, grad_fn=<BinaryCrossEntropyBackward>)\n",
      "tensor(0.3067, grad_fn=<BinaryCrossEntropyBackward>)\n",
      "tensor(0.3040, grad_fn=<BinaryCrossEntropyBackward>)\n",
      "tensor(0.3056, grad_fn=<BinaryCrossEntropyBackward>)\n",
      "tensor(0.2819, grad_fn=<BinaryCrossEntropyBackward>)\n",
      "tensor(0.2953, grad_fn=<BinaryCrossEntropyBackward>)\n",
      "tensor(0.2599, grad_fn=<BinaryCrossEntropyBackward>)\n",
      "tensor(0.3343, grad_fn=<BinaryCrossEntropyBackward>)\n",
      "tensor(0.3212, grad_fn=<BinaryCrossEntropyBackward>)\n",
      "tensor(0.3208, grad_fn=<BinaryCrossEntropyBackward>)\n",
      "tensor(0.3319, grad_fn=<BinaryCrossEntropyBackward>)\n",
      "tensor(0.3189, grad_fn=<BinaryCrossEntropyBackward>)\n",
      "tensor(0.3219, grad_fn=<BinaryCrossEntropyBackward>)\n",
      "tensor(0.3032, grad_fn=<BinaryCrossEntropyBackward>)\n",
      "tensor(0.3146, grad_fn=<BinaryCrossEntropyBackward>)\n",
      "tensor(0.3091, grad_fn=<BinaryCrossEntropyBackward>)\n",
      "tensor(0.3247, grad_fn=<BinaryCrossEntropyBackward>)\n",
      "tensor(0.3326, grad_fn=<BinaryCrossEntropyBackward>)\n",
      "tensor(0.3107, grad_fn=<BinaryCrossEntropyBackward>)\n",
      "tensor(0.2823, grad_fn=<BinaryCrossEntropyBackward>)\n",
      "tensor(0.3151, grad_fn=<BinaryCrossEntropyBackward>)\n",
      "tensor(0.3138, grad_fn=<BinaryCrossEntropyBackward>)\n",
      "tensor(0.3235, grad_fn=<BinaryCrossEntropyBackward>)\n",
      "tensor(0.3054, grad_fn=<BinaryCrossEntropyBackward>)\n",
      "tensor(0.2647, grad_fn=<BinaryCrossEntropyBackward>)\n",
      "tensor(0.3020, grad_fn=<BinaryCrossEntropyBackward>)\n",
      "tensor(0.2877, grad_fn=<BinaryCrossEntropyBackward>)\n",
      "tensor(0.3144, grad_fn=<BinaryCrossEntropyBackward>)\n",
      "tensor(0.3444, grad_fn=<BinaryCrossEntropyBackward>)\n",
      "tensor(0.3290, grad_fn=<BinaryCrossEntropyBackward>)\n",
      "tensor(0.3055, grad_fn=<BinaryCrossEntropyBackward>)\n",
      "tensor(0.2707, grad_fn=<BinaryCrossEntropyBackward>)\n",
      "tensor(0.3184, grad_fn=<BinaryCrossEntropyBackward>)\n",
      "tensor(0.3028, grad_fn=<BinaryCrossEntropyBackward>)\n",
      "tensor(0.3087, grad_fn=<BinaryCrossEntropyBackward>)\n",
      "tensor(0.3479, grad_fn=<BinaryCrossEntropyBackward>)\n",
      "tensor(0.3327, grad_fn=<BinaryCrossEntropyBackward>)\n",
      "tensor(0.2946, grad_fn=<BinaryCrossEntropyBackward>)\n",
      "tensor(0.3410, grad_fn=<BinaryCrossEntropyBackward>)\n",
      "tensor(0.3037, grad_fn=<BinaryCrossEntropyBackward>)\n",
      "tensor(0.3270, grad_fn=<BinaryCrossEntropyBackward>)\n",
      "tensor(0.3268, grad_fn=<BinaryCrossEntropyBackward>)\n",
      "tensor(0.3225, grad_fn=<BinaryCrossEntropyBackward>)\n",
      "tensor(0.3034, grad_fn=<BinaryCrossEntropyBackward>)\n",
      "tensor(0.3340, grad_fn=<BinaryCrossEntropyBackward>)\n",
      "tensor(0.2947, grad_fn=<BinaryCrossEntropyBackward>)\n",
      "tensor(0.2858, grad_fn=<BinaryCrossEntropyBackward>)\n",
      "tensor(0.3323, grad_fn=<BinaryCrossEntropyBackward>)\n",
      "tensor(0.3051, grad_fn=<BinaryCrossEntropyBackward>)\n",
      "tensor(0.2829, grad_fn=<BinaryCrossEntropyBackward>)\n",
      "tensor(0.3249, grad_fn=<BinaryCrossEntropyBackward>)\n",
      "tensor(0.3093, grad_fn=<BinaryCrossEntropyBackward>)\n",
      "tensor(0.2945, grad_fn=<BinaryCrossEntropyBackward>)\n",
      "tensor(0.2781, grad_fn=<BinaryCrossEntropyBackward>)\n",
      "tensor(0.3027, grad_fn=<BinaryCrossEntropyBackward>)\n",
      "tensor(0.2954, grad_fn=<BinaryCrossEntropyBackward>)\n"
     ]
    }
   ],
   "source": [
    "epochs = 20 # try larger number of epochs\n",
    "clip = 5\n",
    "#model = CNN_LSTM_3(vocab_size, word2vec_matrix, hidden_dim, n_layers, output_size)\n",
    "#model.to(device)\n",
    "model.train()\n",
    "for i in range(epochs):\n",
    "    total_acc_train = 0\n",
    "    total_loss_train = 0\n",
    "    \n",
    "    for lstm, cnn in zip(text_train_loader, img_train_loader):\n",
    "        lstm_inp, title_inp, lstm_labels = lstm\n",
    "        \n",
    "        title_inp = title_inp.float()\n",
    "        lstm_inp = lstm_inp.float()\n",
    "        #print(lstm_inp)\n",
    "        cnn_inp, cnn_labels = cnn\n",
    "        cnn_inp = cnn_inp.float()\n",
    "        #title_inp,title_labels = title_inp.to(device),title_labels.to(device)\n",
    "        lstm_inp, title_inp,lstm_labels = lstm_inp.to(device), title_inp.to(device), lstm_labels.to(device)\n",
    "        cnn_inp, cnn_labels = cnn_inp.to(device), cnn_labels.to(device)\n",
    "        model.zero_grad()\n",
    "        output = model(lstm_inp, cnn_inp,title_inp)\n",
    "        #print(output)\n",
    "        loss = criterion(output.squeeze(), lstm_labels.float())\n",
    "        print(loss)\n",
    "        loss.backward()\n",
    "        nn.utils.clip_grad_norm_(model.parameters(), clip)\n",
    "        optimizer.step()\n",
    "    \n",
    "        with torch.no_grad():\n",
    "            acc = torch.abs(output.squeeze() - lstm_labels.float()).view(-1)\n",
    "            acc = (1. - acc.sum() / acc.size()[0])\n",
    "            total_acc_train += acc\n",
    "            total_loss_train += loss.item()\n",
    "  \n",
    "    train_acc = total_acc_train/len(text_train_loader)\n",
    "    train_loss = total_loss_train/len(text_train_loader)\n",
    "    print('done training',train_acc)\n",
    "    model.eval()\n",
    "    total_acc_val = 0\n",
    "    total_loss_val = 0\n",
    "    with torch.no_grad():\n",
    "        for lstm, cnn in zip(text_val_loader, img_val_loader):\n",
    "            lstm_inp, title_inp, lstm_labels = lstm\n",
    "            lstm_inp = lstm_inp.float()\n",
    "            title_inp = title_inp.float()\n",
    "            cnn_inp, cnn_labels = cnn\n",
    "            cnn_inp = cnn_inp.float()\n",
    "            lstm_inp, title_inp, lstm_labels = lstm_inp.to(device),title_inp.tο(device), lstm_labels.to(device)\n",
    "            cnn_inp, cnn_labels = cnn_inp.to(device), cnn_labels.to(device)\n",
    "            model.zero_grad()\n",
    "            output = model(lstm_inp, cnn_inp,title_inp)\n",
    "            val_loss = criterion(output.squeeze(), lstm_labels.float())\n",
    "            acc = torch.abs(output.squeeze() - lstm_labels.float()).view(-1)\n",
    "            acc = (1. - acc.sum() / acc.size()[0])\n",
    "            total_acc_val += acc\n",
    "            total_loss_val += val_loss.item()\n",
    "    print(\"Saving model...\") \n",
    "    torch.save(model.state_dict(), '/home/gusmavko@GU.GU.SE/aics-project/data/model_title_overview_img.pt')\n",
    "#\n",
    "    val_acc = total_acc_val/len(text_val_loader)\n",
    "    val_loss = total_loss_val/len(text_val_loader)\n",
    "    print(f'Epoch {i+1}: train_loss: {train_loss:.4f} train_acc: {train_acc:.4f} | val_loss: {val_loss:.4f} val_acc: {val_acc:.4f}')\n",
    "    model.train()\n",
    "    torch.cuda.empty_cache()"
   ]
  },
  {
   "cell_type": "markdown",
   "metadata": {},
   "source": [
    "## Second approach for title, overview, poster"
   ]
  },
  {
   "cell_type": "code",
   "execution_count": 66,
   "metadata": {},
   "outputs": [],
   "source": [
    "batch_size = 5\n",
    "text_train_data = TensorDataset(torch.from_numpy(X_title_overview_train), torch.from_numpy(train_labels))\n",
    "img_train_data = TensorDataset(X_img_train, torch.from_numpy(train_labels))\n",
    "\n",
    "\n",
    "text_val_data = TensorDataset(torch.from_numpy(X_title_overview_val), torch.from_numpy(val_labels))\n",
    "img_val_data = TensorDataset(X_img_val, torch.from_numpy(val_labels))\n",
    "text_test_data = TensorDataset(torch.from_numpy(X_title_overview_test), torch.from_numpy(test_labels))\n",
    "img_test_data = TensorDataset(X_img_test, torch.from_numpy(test_labels))\n",
    "\n",
    "text_train_loader = DataLoader(text_train_data, batch_size=batch_size)\n",
    "img_train_loader = DataLoader(img_train_data, batch_size=batch_size)\n",
    "\n",
    "text_val_loader = DataLoader(text_val_data, batch_size=batch_size)\n",
    "img_val_loader = DataLoader(img_val_data, batch_size=batch_size)\n",
    "\n",
    "text_test_loader = DataLoader(text_test_data, batch_size=batch_size)\n",
    "img_test_loader = DataLoader(img_test_data, batch_size=batch_size)\n"
   ]
  },
  {
   "cell_type": "code",
   "execution_count": 67,
   "metadata": {},
   "outputs": [],
   "source": [
    "# Building model for movie genre classification using textual and image features.\n",
    "\n",
    "class CNN_LSTM_title_overview(nn.Module):\n",
    "    def __init__(self, vocab_size, weights_matrix, n_hidden, n_layers, n_out):\n",
    "        super(CNN_LSTM_title_overview, self).__init__()\n",
    "\n",
    "        # LSTM for the text overview\n",
    "        self.vocab_size, self.n_hidden, self.n_out, self.n_layers = vocab_size, n_hidden, n_out, n_layers\n",
    "        num_embeddings, embedding_dim = weights_matrix.shape[0], weights_matrix.shape[1]\n",
    "        self.emb = nn.Embedding(num_embeddings, embedding_dim)\n",
    "        self.emb.weight.data.copy_(torch.from_numpy(weights_matrix))\n",
    "        self.emb.weight.requires_grad = True\n",
    "        self.lstm = nn.LSTM(embedding_dim, self.n_hidden, self.n_layers, dropout=0.2, batch_first=True)\n",
    "        self.dropout = nn.Dropout(0.1)\n",
    "        self.lstm_fc = nn.Linear(self.n_hidden, 128)\n",
    "        \n",
    "        # CNN for the posters\n",
    "        self.conv1 = nn.Conv2d(3, 32, 3) # Gives me depth of input.\n",
    "        # pooling layers to reduce the image size\n",
    "        self.max_pool1 = nn.MaxPool2d(2)\n",
    "        self.conv2 = nn.Conv2d(32, 64, 3)\n",
    "        # pooling layers to reduce the image size\n",
    "        self.max_pool2 = nn.MaxPool2d(2)\n",
    "        self.conv3 = nn.Conv2d(64, 128, 3)\n",
    "        # pooling layers to reduce the image size\n",
    "        self.max_pool3 = nn.MaxPool2d(2)\n",
    "        self.conv4 = nn.Conv2d(128, 128, 3)\n",
    "        # pooling layers to reduce the image size\n",
    "        self.max_pool4 = nn.MaxPool2d(2)\n",
    "        # to drop the nodes that are below the wanted weights\n",
    "        self.cnn_dropout = nn.Dropout(0.1)\n",
    "        self.cnn_fc = nn.Linear(4*4*128, 512) # Gives me number of features of input.\n",
    "        \n",
    "        # Concat layer for the combined feature space\n",
    "        self.combined_fc1 = nn.Linear(640, 256) # Give me features of input.\n",
    "        self.combined_fc2 = nn.Linear(256, 128)\n",
    "        self.output_fc = nn.Linear(128, n_out)\n",
    "\n",
    "\n",
    "    def forward(self, lstm_inp, cnn_inp):\n",
    "        batch_size = lstm_inp.size(0)\n",
    "        hidden = self.init_hidden(batch_size)\n",
    "        lstm_inp = lstm_inp.long()\n",
    "        embeds = self.emb(lstm_inp)\n",
    "        lstm_out, hidden = self.lstm(embeds, hidden)\n",
    "        lstm_out = self.dropout(lstm_out[:, -1])\n",
    "        lstm_out = F.relu(self.lstm_fc(lstm_out))\n",
    "\n",
    "        x = F.relu(self.conv1(cnn_inp))\n",
    "        x = self.max_pool1(x)\n",
    "        #print(x.shape)\n",
    "        x = F.relu(self.conv2(x))\n",
    "        x = self.max_pool2(x)\n",
    "        #print(x.shape)\n",
    "        x = F.relu(self.conv3(x))\n",
    "        x = self.max_pool3(x)\n",
    "        #print(x.shape)\n",
    "        x = F.relu(self.conv4(x))\n",
    "        x = self.max_pool4(x)\n",
    "        #print(x.shape) # that is how I get the correct dimensions for the CNN output that is then passed as input to the linear layer\n",
    "        # need the input to be two dimensional again\n",
    "        x = x.view(-1, 4*4*128)\n",
    "        \n",
    "        x = self.cnn_dropout(x)\n",
    "        cnn_out = F.relu(self.cnn_fc(x))\n",
    "        \n",
    "        #concatenating the cnn output and the lstm output\n",
    "        combined_inp = torch.cat((cnn_out, lstm_out), 1)\n",
    "        # activation function and 2 more linear layers\n",
    "        x_comb = F.relu(self.combined_fc1(combined_inp))\n",
    "        x_comb = F.relu(self.combined_fc2(x_comb))\n",
    "        # sigmoid to get 1 and 0 on the one-hot-encoding formatted label\n",
    "        out = torch.sigmoid(self.output_fc(x_comb))\n",
    "\n",
    "        return out\n",
    "\n",
    "    def init_hidden(self, batch_size):\n",
    "        weight = next(self.parameters()).data\n",
    "        hidden = (weight.new(self.n_layers, batch_size, self.n_hidden).zero_().to(device),\n",
    "                          weight.new(self.n_layers, batch_size, self.n_hidden).zero_().to(device))\n",
    "        return hidden"
   ]
  },
  {
   "cell_type": "code",
   "execution_count": 68,
   "metadata": {},
   "outputs": [
    {
     "name": "stdout",
     "output_type": "stream",
     "text": [
      "CNN_LSTM_title_overview(\n",
      "  (emb): Embedding(72673, 300)\n",
      "  (lstm): LSTM(300, 64, num_layers=2, batch_first=True, dropout=0.2)\n",
      "  (dropout): Dropout(p=0.1, inplace=False)\n",
      "  (lstm_fc): Linear(in_features=64, out_features=128, bias=True)\n",
      "  (conv1): Conv2d(3, 32, kernel_size=(3, 3), stride=(1, 1))\n",
      "  (max_pool1): MaxPool2d(kernel_size=2, stride=2, padding=0, dilation=1, ceil_mode=False)\n",
      "  (conv2): Conv2d(32, 64, kernel_size=(3, 3), stride=(1, 1))\n",
      "  (max_pool2): MaxPool2d(kernel_size=2, stride=2, padding=0, dilation=1, ceil_mode=False)\n",
      "  (conv3): Conv2d(64, 128, kernel_size=(3, 3), stride=(1, 1))\n",
      "  (max_pool3): MaxPool2d(kernel_size=2, stride=2, padding=0, dilation=1, ceil_mode=False)\n",
      "  (conv4): Conv2d(128, 128, kernel_size=(3, 3), stride=(1, 1))\n",
      "  (max_pool4): MaxPool2d(kernel_size=2, stride=2, padding=0, dilation=1, ceil_mode=False)\n",
      "  (cnn_dropout): Dropout(p=0.1, inplace=False)\n",
      "  (cnn_fc): Linear(in_features=2048, out_features=512, bias=True)\n",
      "  (combined_fc1): Linear(in_features=640, out_features=256, bias=True)\n",
      "  (combined_fc2): Linear(in_features=256, out_features=128, bias=True)\n",
      "  (output_fc): Linear(in_features=128, out_features=19, bias=True)\n",
      ")\n",
      "cuda:2\n"
     ]
    }
   ],
   "source": [
    "#device = torch.device('cuda:2')\n",
    "vocab_size = len(word_index)+1\n",
    "output_size = train_labels.shape[1]\n",
    "embedding_dim = 300\n",
    "hidden_dim = 64\n",
    "n_layers = 2\n",
    "\n",
    "model = CNN_LSTM_title_overview(vocab_size, word2vec_matrix, hidden_dim, n_layers, output_size)\n",
    "model.to(device)\n",
    "print(model)\n",
    "\n",
    "lr=0.001\n",
    "# criterion = nn.MultiLabelSoftMarginLoss()\n",
    "criterion = nn.BCELoss()\n",
    "optimizer = torch.optim.Adam(model.parameters(), lr=lr, weight_decay=1e-5)\n",
    "print(device)"
   ]
  },
  {
   "cell_type": "code",
   "execution_count": 69,
   "metadata": {},
   "outputs": [
    {
     "name": "stdout",
     "output_type": "stream",
     "text": [
      "done training tensor(0.8238, device='cuda:2')\n",
      "Saving model...\n",
      "Epoch 1: train_loss: 0.3026 train_acc: 0.8238 | val_loss: 0.2866 val_acc: 0.8227\n",
      "done training tensor(0.8335, device='cuda:2')\n",
      "Saving model...\n",
      "Epoch 2: train_loss: 0.2829 train_acc: 0.8335 | val_loss: 0.2821 val_acc: 0.8282\n",
      "done training tensor(0.8378, device='cuda:2')\n",
      "Saving model...\n",
      "Epoch 3: train_loss: 0.2739 train_acc: 0.8378 | val_loss: 0.2740 val_acc: 0.8294\n",
      "done training tensor(0.8464, device='cuda:2')\n",
      "Saving model...\n",
      "Epoch 4: train_loss: 0.2585 train_acc: 0.8464 | val_loss: 0.2661 val_acc: 0.8394\n",
      "done training tensor(0.8554, device='cuda:2')\n",
      "Saving model...\n",
      "Epoch 5: train_loss: 0.2427 train_acc: 0.8554 | val_loss: 0.2534 val_acc: 0.8506\n",
      "done training tensor(0.8658, device='cuda:2')\n",
      "Saving model...\n",
      "Epoch 6: train_loss: 0.2254 train_acc: 0.8658 | val_loss: 0.2462 val_acc: 0.8574\n",
      "done training tensor(0.8737, device='cuda:2')\n",
      "Saving model...\n",
      "Epoch 7: train_loss: 0.2129 train_acc: 0.8737 | val_loss: 0.2541 val_acc: 0.8661\n",
      "done training tensor(0.8804, device='cuda:2')\n",
      "Saving model...\n",
      "Epoch 8: train_loss: 0.2022 train_acc: 0.8804 | val_loss: 0.2477 val_acc: 0.8646\n",
      "done training tensor(0.8857, device='cuda:2')\n",
      "Saving model...\n",
      "Epoch 9: train_loss: 0.1939 train_acc: 0.8857 | val_loss: 0.2562 val_acc: 0.8722\n",
      "done training tensor(0.8909, device='cuda:2')\n",
      "Saving model...\n",
      "Epoch 10: train_loss: 0.1854 train_acc: 0.8909 | val_loss: 0.2607 val_acc: 0.8726\n",
      "done training tensor(0.8952, device='cuda:2')\n",
      "Saving model...\n",
      "Epoch 11: train_loss: 0.1787 train_acc: 0.8952 | val_loss: 0.2634 val_acc: 0.8770\n",
      "done training tensor(0.8991, device='cuda:2')\n",
      "Saving model...\n",
      "Epoch 12: train_loss: 0.1725 train_acc: 0.8991 | val_loss: 0.2775 val_acc: 0.8739\n",
      "done training tensor(0.9024, device='cuda:2')\n",
      "Saving model...\n",
      "Epoch 13: train_loss: 0.1670 train_acc: 0.9024 | val_loss: 0.2638 val_acc: 0.8756\n",
      "done training tensor(0.9055, device='cuda:2')\n",
      "Saving model...\n",
      "Epoch 14: train_loss: 0.1621 train_acc: 0.9055 | val_loss: 0.2748 val_acc: 0.8753\n",
      "done training tensor(0.9086, device='cuda:2')\n",
      "Saving model...\n",
      "Epoch 15: train_loss: 0.1570 train_acc: 0.9086 | val_loss: 0.2820 val_acc: 0.8778\n",
      "done training tensor(0.9118, device='cuda:2')\n",
      "Saving model...\n",
      "Epoch 16: train_loss: 0.1518 train_acc: 0.9118 | val_loss: 0.2915 val_acc: 0.8774\n",
      "done training tensor(0.9144, device='cuda:2')\n",
      "Saving model...\n",
      "Epoch 17: train_loss: 0.1477 train_acc: 0.9144 | val_loss: 0.2897 val_acc: 0.8759\n",
      "done training tensor(0.9173, device='cuda:2')\n",
      "Saving model...\n",
      "Epoch 18: train_loss: 0.1428 train_acc: 0.9173 | val_loss: 0.2939 val_acc: 0.8785\n",
      "done training tensor(0.9197, device='cuda:2')\n",
      "Saving model...\n",
      "Epoch 19: train_loss: 0.1389 train_acc: 0.9197 | val_loss: 0.2967 val_acc: 0.8768\n",
      "done training tensor(0.9225, device='cuda:2')\n",
      "Saving model...\n",
      "Epoch 20: train_loss: 0.1345 train_acc: 0.9225 | val_loss: 0.3056 val_acc: 0.8794\n"
     ]
    }
   ],
   "source": [
    "epochs = 20 # try larger number of epochs\n",
    "clip = 5\n",
    "\n",
    "model.train()\n",
    "for i in range(epochs):\n",
    "    total_acc_train = 0\n",
    "    total_loss_train = 0\n",
    "    \n",
    "    for lstm, cnn in zip(text_train_loader, img_train_loader):\n",
    "        lstm_inp, lstm_labels = lstm\n",
    "        lstm_inp = lstm_inp.float()\n",
    "        cnn_inp, cnn_labels = cnn\n",
    "        cnn_inp = cnn_inp.float()\n",
    "        lstm_inp, lstm_labels = lstm_inp.to(device), lstm_labels.to(device)\n",
    "        cnn_inp, cnn_labels = cnn_inp.to(device), cnn_labels.to(device)\n",
    "        model.zero_grad()\n",
    "        output = model(lstm_inp, cnn_inp)\n",
    "        loss = criterion(output.squeeze(), lstm_labels.float())\n",
    "        loss.backward()\n",
    "        nn.utils.clip_grad_norm_(model.parameters(), clip)\n",
    "        optimizer.step()\n",
    "    \n",
    "        with torch.no_grad():\n",
    "            acc = torch.abs(output.squeeze() - lstm_labels.float()).view(-1)\n",
    "            acc = (1. - acc.sum() / acc.size()[0])\n",
    "            total_acc_train += acc\n",
    "            total_loss_train += loss.item()\n",
    "  \n",
    "    train_acc = total_acc_train/len(text_train_loader)\n",
    "    train_loss = total_loss_train/len(text_train_loader)\n",
    "    print('done training',train_acc)\n",
    "    model.eval()\n",
    "    total_acc_val = 0\n",
    "    total_loss_val = 0\n",
    "    with torch.no_grad():\n",
    "        for lstm, cnn in zip(text_val_loader, img_val_loader):\n",
    "            lstm_inp, lstm_labels = lstm\n",
    "            lstm_inp = lstm_inp.float()\n",
    "            cnn_inp, cnn_labels = cnn\n",
    "            cnn_inp = cnn_inp.float()\n",
    "            lstm_inp, lstm_labels = lstm_inp.to(device), lstm_labels.to(device)\n",
    "            cnn_inp, cnn_labels = cnn_inp.to(device), cnn_labels.to(device)\n",
    "            model.zero_grad()\n",
    "            output = model(lstm_inp, cnn_inp)\n",
    "            val_loss = criterion(output.squeeze(), lstm_labels.float())\n",
    "            acc = torch.abs(output.squeeze() - lstm_labels.float()).view(-1)\n",
    "            acc = (1. - acc.sum() / acc.size()[0])\n",
    "            total_acc_val += acc\n",
    "            total_loss_val += val_loss.item()\n",
    "    print(\"Saving model...\") \n",
    "    torch.save(model.state_dict(), '/home/gusmavko@GU.GU.SE/aics-project/data/model_title_overview_img.pt')\n",
    "\n",
    "    val_acc = total_acc_val/len(text_val_loader)\n",
    "    val_loss = total_loss_val/len(text_val_loader)\n",
    "    print(f'Epoch {i+1}: train_loss: {train_loss:.4f} train_acc: {train_acc:.4f} | val_loss: {val_loss:.4f} val_acc: {val_acc:.4f}')\n",
    "    model.train()\n",
    "    torch.cuda.empty_cache()"
   ]
  },
  {
   "cell_type": "code",
   "execution_count": null,
   "metadata": {},
   "outputs": [],
   "source": []
  }
 ],
 "metadata": {
  "kernelspec": {
   "display_name": "Python 3",
   "language": "python",
   "name": "python3"
  },
  "language_info": {
   "codemirror_mode": {
    "name": "ipython",
    "version": 3
   },
   "file_extension": ".py",
   "mimetype": "text/x-python",
   "name": "python",
   "nbconvert_exporter": "python",
   "pygments_lexer": "ipython3",
   "version": "3.7.4"
  }
 },
 "nbformat": 4,
 "nbformat_minor": 2
}
